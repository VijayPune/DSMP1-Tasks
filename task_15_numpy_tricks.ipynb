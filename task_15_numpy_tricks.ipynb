{
  "nbformat": 4,
  "nbformat_minor": 0,
  "metadata": {
    "colab": {
      "provenance": [],
      "include_colab_link": true
    },
    "kernelspec": {
      "name": "python3",
      "display_name": "Python 3"
    },
    "language_info": {
      "name": "python"
    }
  },
  "cells": [
    {
      "cell_type": "markdown",
      "metadata": {
        "id": "view-in-github",
        "colab_type": "text"
      },
      "source": [
        "<a href=\"https://colab.research.google.com/github/VijayPune/DSMP1-Tasks/blob/main/task_15_numpy_tricks.ipynb\" target=\"_parent\"><img src=\"https://colab.research.google.com/assets/colab-badge.svg\" alt=\"Open In Colab\"/></a>"
      ]
    },
    {
      "cell_type": "markdown",
      "source": [
        "###`Q-1:` Create a random 3x4 matrix with value between 0-100. And perform below tasks\n",
        "\n",
        "    i. Sort this matrix. np.sort()\n",
        "    ii. Sort this matrix based on values in 2nd column.\n",
        "    iii. Sort this matrix based on max value in each row.\n",
        "    iv. Sort based on elements value.\n"
      ],
      "metadata": {
        "id": "J88qfqQEk_sT"
      }
    },
    {
      "cell_type": "markdown",
      "source": [
        "See examples:\n",
        "```\n",
        "arr =\n",
        "    [[92 90 74]\n",
        "    [ 6 63 93]\n",
        "    [15 93 96]\n",
        "    [70 60 48]]\n",
        "```\n",
        "```\n",
        "i. np.sort\n",
        "[[74 90 92]\n",
        " [ 6 63 93]\n",
        " [15 93 96]\n",
        " [48 60 70]]\n",
        "\n",
        "ii. based on 2nd column\n",
        "[[70 60 48]\n",
        " [ 6 63 93]\n",
        " [92 90 74]\n",
        " [15 93 96]]\n",
        "\n",
        "iii. based on row max- ascending\n",
        "[[15 93 96]\n",
        " [ 6 63 93]\n",
        " [92 90 74]\n",
        " [70 60 48]]\n",
        "\n",
        "iv. based on elements value\n",
        "[[ 6 15 48]\n",
        " [60 63 70]\n",
        " [74 90 92]\n",
        " [93 93 96]]\n",
        "\n",
        "```"
      ],
      "metadata": {
        "id": "xpOwOdhqlE9R"
      }
    },
    {
      "cell_type": "code",
      "source": [
        "# code here\n",
        "import numpy as np\n",
        "\n",
        "a = np.random.randint(1,100,10)\n",
        "b = np.random.randint(1,100,30).reshape(6,5)"
      ],
      "metadata": {
        "id": "Auy-guUwlALv"
      },
      "execution_count": 6,
      "outputs": []
    },
    {
      "cell_type": "code",
      "source": [
        "a"
      ],
      "metadata": {
        "id": "pGOemYafPsnc",
        "outputId": "896e9a85-26e8-44ac-fef7-845b1eb7d4a4",
        "colab": {
          "base_uri": "https://localhost:8080/"
        }
      },
      "execution_count": 7,
      "outputs": [
        {
          "output_type": "execute_result",
          "data": {
            "text/plain": [
              "array([97, 90, 41,  6, 81, 56, 74, 74, 92, 34])"
            ]
          },
          "metadata": {},
          "execution_count": 7
        }
      ]
    },
    {
      "cell_type": "code",
      "source": [
        "b"
      ],
      "metadata": {
        "id": "NdJGPTaZPs-s",
        "outputId": "350b1f48-bd57-4ced-bdde-835e47982739",
        "colab": {
          "base_uri": "https://localhost:8080/"
        }
      },
      "execution_count": 8,
      "outputs": [
        {
          "output_type": "execute_result",
          "data": {
            "text/plain": [
              "array([[64, 97, 18, 86, 28],\n",
              "       [41, 29, 75, 41, 11],\n",
              "       [64, 31, 85, 83, 14],\n",
              "       [11, 11,  3, 61, 75],\n",
              "       [52, 81, 73, 19, 24],\n",
              "       [96, 66, 62, 56, 66]])"
            ]
          },
          "metadata": {},
          "execution_count": 8
        }
      ]
    },
    {
      "cell_type": "code",
      "source": [
        "# Sort Matrix a\n",
        "print(np.sort(a))           # It is sorted in ascending order by default\n",
        "print(np.sort(a)[::-1])     # To sort in descending order, that is max value first"
      ],
      "metadata": {
        "id": "KdI2LmFbPDy-",
        "outputId": "e40b7484-245b-4f92-a79a-9516769edd32",
        "colab": {
          "base_uri": "https://localhost:8080/"
        }
      },
      "execution_count": 21,
      "outputs": [
        {
          "output_type": "stream",
          "name": "stdout",
          "text": [
            "[ 6 34 41 56 74 74 81 90 92 97]\n",
            "[97 92 90 81 74 74 56 41 34  6]\n"
          ]
        }
      ]
    },
    {
      "cell_type": "code",
      "source": [
        "# Sort Matrix b on column 2\n",
        "print(np.sort(b,axis=1))    # By default the sort is in asceending order, min value first\n",
        "print(np.sort(b,axis=1)[::-1])    # To sort in desceending order, max value first\n"
      ],
      "metadata": {
        "id": "sBolZrtCPxxn",
        "outputId": "e7b7d647-f95b-4de1-a6ca-2feeb5de6b10",
        "colab": {
          "base_uri": "https://localhost:8080/"
        }
      },
      "execution_count": 22,
      "outputs": [
        {
          "output_type": "stream",
          "name": "stdout",
          "text": [
            "[[18 28 64 86 97]\n",
            " [11 29 41 41 75]\n",
            " [14 31 64 83 85]\n",
            " [ 3 11 11 61 75]\n",
            " [19 24 52 73 81]\n",
            " [56 62 66 66 96]]\n",
            "[[56 62 66 66 96]\n",
            " [19 24 52 73 81]\n",
            " [ 3 11 11 61 75]\n",
            " [14 31 64 83 85]\n",
            " [11 29 41 41 75]\n",
            " [18 28 64 86 97]]\n"
          ]
        }
      ]
    },
    {
      "cell_type": "code",
      "source": [
        "# Sort Matrix b on rows\n",
        "print(np.sort(b, axis=0))"
      ],
      "metadata": {
        "id": "6G-7uNjmQ3Tc",
        "outputId": "2998611e-3898-4e7a-98bc-b08b40b7a833",
        "colab": {
          "base_uri": "https://localhost:8080/"
        }
      },
      "execution_count": 19,
      "outputs": [
        {
          "output_type": "stream",
          "name": "stdout",
          "text": [
            "[[11 11  3 19 11]\n",
            " [41 29 18 41 14]\n",
            " [52 31 62 56 24]\n",
            " [64 66 73 61 28]\n",
            " [64 81 75 83 66]\n",
            " [96 97 85 86 75]]\n"
          ]
        }
      ]
    },
    {
      "cell_type": "markdown",
      "source": [
        "###`Q-2:` There is an array of marks of 5 students in 4 subjects. Further you are asked to perform below task.\n",
        "    i. Add marks every student of an extra subject in the same array.\n",
        "    ii. Add two new students marks in respective 5 subjects.(one subject added in above task)\n",
        "    iii. Add extra column with sum of all subjects(5-subjects) marks\n",
        "    iv. Sort the array(non-ascending order) on total marks column--one added in above task. Show top 2 rows.\n",
        "\n",
        "Note: Change dimension of arrays during concatenation or appending if required."
      ],
      "metadata": {
        "id": "Jx_I3gx9lBay"
      }
    },
    {
      "cell_type": "markdown",
      "source": [
        "Given Array-\n",
        "```\n",
        "marks = [[13, 10,  9, 33],\n",
        "       [63, 46, 90, 42],\n",
        "       [39, 76, 13, 29],\n",
        "       [82,  9, 29, 78],\n",
        "       [67, 61, 59, 36]]\n",
        "\n",
        "extra_subject = [41, 87, 72, 36, 92]\n",
        "#Two extra students record-\n",
        "rec1 = [77, 83, 98, 95, 89]\n",
        "rec2 = [92, 71, 52, 61, 53]\n",
        "```"
      ],
      "metadata": {
        "id": "lXF-CE6ylNIw"
      }
    },
    {
      "cell_type": "code",
      "source": [
        "# code here\n",
        "# Below is a matrix showing Marks for 5 students for 4 subjects\n",
        "marks = [[13, 10,  9, 33],\n",
        "       [63, 46, 90, 42],\n",
        "       [39, 76, 13, 29],\n",
        "       [82,  9, 29, 78],\n",
        "       [67, 61, 59, 36]]\n",
        "# They have now marks declared for the 5th subject for all 5 students.\n",
        "# Need to Add them to the marks matrix\n",
        "extra_subject = [41, 87, 72, 36, 92]\n",
        "new_marks = np.concatenate((marks,np.array([extra_subject]).T), axis=1)\n",
        "print(new_marks)"
      ],
      "metadata": {
        "id": "7YKsWO2olMkq",
        "colab": {
          "base_uri": "https://localhost:8080/"
        },
        "outputId": "503513cd-0fdb-4544-b02f-889cc6d216e2"
      },
      "execution_count": 43,
      "outputs": [
        {
          "output_type": "stream",
          "name": "stdout",
          "text": [
            "[[13 10  9 33 41]\n",
            " [63 46 90 42 87]\n",
            " [39 76 13 29 72]\n",
            " [82  9 29 78 36]\n",
            " [67 61 59 36 92]]\n"
          ]
        }
      ]
    },
    {
      "cell_type": "code",
      "source": [
        "# Add one more column to each student showing their Total marks\n",
        "total_marks = np.array(np.sum(new_marks, axis=1))\n",
        "total_marks = np.concatenate((new_marks,np.array([total_marks]).T), axis=1)\n",
        "print(total_marks)"
      ],
      "metadata": {
        "id": "nvhsy9xLYaYj",
        "outputId": "bf64a164-e425-48c5-fd44-6c17c9260ef4",
        "colab": {
          "base_uri": "https://localhost:8080/"
        }
      },
      "execution_count": 58,
      "outputs": [
        {
          "output_type": "stream",
          "name": "stdout",
          "text": [
            "[[ 13  10   9  33  41 106]\n",
            " [ 63  46  90  42  87 328]\n",
            " [ 39  76  13  29  72 229]\n",
            " [ 82   9  29  78  36 234]\n",
            " [ 67  61  59  36  92 315]]\n"
          ]
        }
      ]
    },
    {
      "cell_type": "code",
      "source": [
        "# iv. Sort the array(non-ascending order) on total marks\n",
        "# column--one added in above task. Show top 2 rows.\n",
        "\n",
        "sort_total_marks = total_marks[total_marks[:,5].argsort()]\n",
        "print(sort_total_marks)\n",
        "print()\n",
        "top_total_marks = np.flip(sort_total_marks, axis=0) # To Show Topper in total marks\n",
        "print(top_total_marks)\n",
        "print()\n",
        "only_top_two_rows = top_total_marks[:2,:]   # To show only top 2 Total Marks\n",
        "print(only_top_two_rows)"
      ],
      "metadata": {
        "id": "q2yCoX9gYab4",
        "outputId": "68950b41-338f-4bd9-eddf-d4ce99197717",
        "colab": {
          "base_uri": "https://localhost:8080/"
        }
      },
      "execution_count": 72,
      "outputs": [
        {
          "output_type": "stream",
          "name": "stdout",
          "text": [
            "[[ 13  10   9  33  41 106]\n",
            " [ 39  76  13  29  72 229]\n",
            " [ 82   9  29  78  36 234]\n",
            " [ 67  61  59  36  92 315]\n",
            " [ 63  46  90  42  87 328]]\n",
            "\n",
            "[[ 63  46  90  42  87 328]\n",
            " [ 67  61  59  36  92 315]\n",
            " [ 82   9  29  78  36 234]\n",
            " [ 39  76  13  29  72 229]\n",
            " [ 13  10   9  33  41 106]]\n",
            "\n",
            "[[ 63  46  90  42  87 328]\n",
            " [ 67  61  59  36  92 315]]\n"
          ]
        }
      ]
    },
    {
      "cell_type": "code",
      "source": [],
      "metadata": {
        "id": "QDaY6SViYafk"
      },
      "execution_count": null,
      "outputs": []
    },
    {
      "cell_type": "markdown",
      "source": [
        "###`Q-3:` Find unique arrays from a 2D array column wise and row wise.\n",
        "```\n",
        "arr = np.array([[1,2,3,3,1,1],\n",
        "                [0,9,1,2,8,8],\n",
        "                [1,2,3,8,8,8],\n",
        "                [1,2,3,3,1,1]])\n",
        "```\n",
        "Expected Result-\n",
        "```\n",
        "Row Wise\n",
        "[[0 9 1 2 8 8]\n",
        " [1 2 3 3 1 1]\n",
        " [1 2 3 8 8 8]]\n",
        "\n",
        "Col Wise\n",
        "[[1 1 2 3 3]\n",
        " [0 8 9 1 2]\n",
        " [1 8 2 3 8]\n",
        " [1 1 2 3 3]]\n",
        "```"
      ],
      "metadata": {
        "id": "VmOyK_8klRqR"
      }
    },
    {
      "cell_type": "code",
      "source": [
        "# code here"
      ],
      "metadata": {
        "id": "LJl10VQrlU5q"
      },
      "execution_count": null,
      "outputs": []
    },
    {
      "cell_type": "markdown",
      "source": [
        "###`Q-4:` Flip given 2-D array along both axes at the same time."
      ],
      "metadata": {
        "id": "RaXwVkywlWY2"
      }
    },
    {
      "cell_type": "code",
      "source": [
        "# code here\n",
        "a1 = np.random.randint(1,100,30).reshape(5,6)\n",
        "print(a1)"
      ],
      "metadata": {
        "id": "mN7-4G8Kleeq",
        "colab": {
          "base_uri": "https://localhost:8080/"
        },
        "outputId": "27a4532e-e18b-4f7e-ffee-a44020971af4"
      },
      "execution_count": 65,
      "outputs": [
        {
          "output_type": "stream",
          "name": "stdout",
          "text": [
            "[[65 46  1 74 78 23]\n",
            " [41 95 70 28 88 92]\n",
            " [84 85 23 42 59 71]\n",
            " [21 51 59 78 73 32]\n",
            " [35 60 88 66 44 22]]\n"
          ]
        }
      ]
    },
    {
      "cell_type": "code",
      "source": [
        "print(np.flip(a1))        # To flip along both axes simultaneously"
      ],
      "metadata": {
        "id": "yB6-MZ-8fQ6i",
        "outputId": "f58e2352-bc66-45b7-dffd-9c235c66e807",
        "colab": {
          "base_uri": "https://localhost:8080/"
        }
      },
      "execution_count": 66,
      "outputs": [
        {
          "output_type": "stream",
          "name": "stdout",
          "text": [
            "[[22 44 66 88 60 35]\n",
            " [32 73 78 59 51 21]\n",
            " [71 59 42 23 85 84]\n",
            " [92 88 28 70 95 41]\n",
            " [23 78 74  1 46 65]]\n"
          ]
        }
      ]
    },
    {
      "cell_type": "code",
      "source": [
        "print(np.flip(a1,axis=0))   # To flip along Columns"
      ],
      "metadata": {
        "id": "ryeCZlk5fUIV",
        "outputId": "00d86039-5f49-49fb-89f2-807d4daa05ca",
        "colab": {
          "base_uri": "https://localhost:8080/"
        }
      },
      "execution_count": 67,
      "outputs": [
        {
          "output_type": "stream",
          "name": "stdout",
          "text": [
            "[[35 60 88 66 44 22]\n",
            " [21 51 59 78 73 32]\n",
            " [84 85 23 42 59 71]\n",
            " [41 95 70 28 88 92]\n",
            " [65 46  1 74 78 23]]\n"
          ]
        }
      ]
    },
    {
      "cell_type": "code",
      "source": [
        "print(np.flip(a1,axis=1))   # To flip on rows"
      ],
      "metadata": {
        "id": "8ebqcxmjfeUT",
        "outputId": "f51b0c04-a2b9-4d66-d451-176b71ce3a32",
        "colab": {
          "base_uri": "https://localhost:8080/"
        }
      },
      "execution_count": 68,
      "outputs": [
        {
          "output_type": "stream",
          "name": "stdout",
          "text": [
            "[[23 78 74  1 46 65]\n",
            " [92 88 28 70 95 41]\n",
            " [71 59 42 23 85 84]\n",
            " [32 73 78 59 51 21]\n",
            " [22 44 66 88 60 35]]\n"
          ]
        }
      ]
    },
    {
      "cell_type": "markdown",
      "source": [
        "### `Q-5:` Get row numbers of NumPy array having element larger than X.\n",
        "```\n",
        "arr = [[1,2,3,4,5],\n",
        "      [10,-3,30,4,5],\n",
        "      [3,2,5,-4,5],\n",
        "      [9,7,3,6,5]]\n",
        "\n",
        "X = 6\n",
        "```"
      ],
      "metadata": {
        "id": "X0S7BUNTlfoq"
      }
    },
    {
      "cell_type": "code",
      "source": [
        "# code here"
      ],
      "metadata": {
        "id": "bi8jRmWhlkBU"
      },
      "execution_count": null,
      "outputs": []
    },
    {
      "cell_type": "markdown",
      "source": [
        "### `Q-6:` How to convert an array of arrays into a flat 1d array?\n"
      ],
      "metadata": {
        "id": "DSCQMo4mlnDG"
      }
    },
    {
      "cell_type": "code",
      "source": [
        "# These arrays are given.\n",
        "arr1 = np.arange(3)\n",
        "arr2 = np.arange(3,7)\n",
        "arr3 = np.arange(7,10)"
      ],
      "metadata": {
        "id": "QZhSkUT2lsJW"
      },
      "execution_count": null,
      "outputs": []
    },
    {
      "cell_type": "code",
      "source": [
        "# code here"
      ],
      "metadata": {
        "id": "f42OXNrFls0I"
      },
      "execution_count": null,
      "outputs": []
    },
    {
      "cell_type": "markdown",
      "source": [
        "### `Q-7:` You are given a array. You have to find the minimum and maximum array element and remove that from the array.\n",
        "\n",
        "```python\n",
        "import numpy as np\n",
        "\n",
        "np.random.seed(400)\n",
        "arr = np.random.randint(100, 1000, 200).reshape((1, 200))\n",
        "```"
      ],
      "metadata": {
        "id": "A1J4oOVCluqO"
      }
    },
    {
      "cell_type": "code",
      "source": [
        "# code here"
      ],
      "metadata": {
        "id": "c6kmgtUJlybZ"
      },
      "execution_count": null,
      "outputs": []
    },
    {
      "cell_type": "markdown",
      "source": [
        "### `Q-8:` You are given an arrays. You have to limit this array's elements between 100 to 200. $arr ∈ [100, 700]$. So replace those values accordingly with the minimum and maximum value. Then sort the array and perform the cumulative sum of that array."
      ],
      "metadata": {
        "id": "0dHN1sdnl0Jy"
      }
    },
    {
      "cell_type": "code",
      "source": [
        "# code here"
      ],
      "metadata": {
        "id": "a3YF_E-Hlza7"
      },
      "execution_count": null,
      "outputs": []
    },
    {
      "cell_type": "markdown",
      "source": [
        "### `Q-9:` You are given a array ($arr ∈ [0, 1]$). First you have round off the elements upto 3 decimal places and compare that\n",
        "- 0th percentile == minimum value of the array\n",
        "- 100th percentile == maximum value of the array\n",
        "- also find the difference betwen 51th percenile and 50th percentile values"
      ],
      "metadata": {
        "id": "cXj90Susl4-I"
      }
    },
    {
      "cell_type": "code",
      "source": [
        "# code here"
      ],
      "metadata": {
        "id": "SgBEHodgl7Lo"
      },
      "execution_count": null,
      "outputs": []
    }
  ]
}