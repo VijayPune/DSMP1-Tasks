{
  "nbformat": 4,
  "nbformat_minor": 0,
  "metadata": {
    "colab": {
      "provenance": [],
      "authorship_tag": "ABX9TyPZPslHv1bJAR4HdYVgFFTA",
      "include_colab_link": true
    },
    "kernelspec": {
      "name": "python3",
      "display_name": "Python 3"
    },
    "language_info": {
      "name": "python"
    }
  },
  "cells": [
    {
      "cell_type": "markdown",
      "metadata": {
        "id": "view-in-github",
        "colab_type": "text"
      },
      "source": [
        "<a href=\"https://colab.research.google.com/github/VijayPune/DSMP1-Tasks/blob/main/Fraction_Class.ipynb\" target=\"_parent\"><img src=\"https://colab.research.google.com/assets/colab-badge.svg\" alt=\"Open In Colab\"/></a>"
      ]
    },
    {
      "cell_type": "code",
      "execution_count": 47,
      "metadata": {
        "id": "iBNKKUflPkAF"
      },
      "outputs": [],
      "source": [
        "class Fraction:\n",
        "\n",
        "  def __init__(self):\n",
        "\n",
        "    self.main_menu()\n",
        "\n",
        "  def main_menu(self):\n",
        "\n",
        "    user_input = input(\"\"\"\n",
        "    ***********  FRACTION ARITHMATICS  ***********\n",
        "    Press '1' to do ADDITION of two fractions\n",
        "    Press '2' to do STRACTION of two fractions\n",
        "    Press '3' to do MULTIPLICATIO of two fractions\n",
        "    Press '4' to do DIVISION of two fractions\n",
        "    **********************************************\n",
        "    \"\"\")\n",
        "\n",
        "    if user_input == '1':\n",
        "      # frac_add\n",
        "      pass\n",
        "    elif user_input == '2':\n",
        "      # frac_sub\n",
        "      pass\n",
        "    elif user_input == '3':\n",
        "      # frac_mul\n",
        "      pass\n",
        "    elif user_input == '4':\n",
        "      # frac_div\n",
        "      pass\n",
        "    else:\n",
        "      exit()\n",
        "\n",
        "  # Parameterized Constructor - It is a constructor where we pass parameters when we create Object. It is a MUST\n",
        "  def __init__(self,x,y):\n",
        "    self.num = x\n",
        "    self.den = y\n",
        "\n",
        "  # Magic method which triggers whenever it comes across print(Object) statement\n",
        "  def __str__(self):\n",
        "    return '{}/{}'.format(self.num, self.den)\n",
        "\n",
        "  # Magic method which triggers whenever we put operand '+' between two Objects\n",
        "  def __add__(self,other):\n",
        "    new_num = (self.num * other.den) + (other.num * self.den)\n",
        "    new_den = (self.den * other.den)\n",
        "\n",
        "    return '{}/{}'.format(new_num, new_den)\n",
        "\n",
        "  # Magic method which triggers whenever we put operand '-' between two Objects\n",
        "  def __sub__(self,other):\n",
        "    new_num = (self.num * other.den) - (other.num * self.den)\n",
        "    new_den = (self.den * other.den)\n",
        "\n",
        "    return '{}/{}'.format(new_num, new_den)\n",
        "\n",
        "  # Magic method which triggers whenever we put operand '*' between two Objects\n",
        "  def __mul__(self,other):\n",
        "    new_num = (self.num * other.num)\n",
        "    new_den = (self.den * other.den)\n",
        "\n",
        "    return '{}/{}'.format(new_num, new_den)\n",
        "\n",
        "  # Magic method which triggers whenever we put operand '/' between two Objects\n",
        "  def __truediv__(self,other):\n",
        "    new_num = (self.num * other.den)\n",
        "    new_den = (self.den * other.num)\n",
        "\n",
        "    return '{}/{}'.format(new_num, new_den)\n",
        "\n",
        "  # Method to convert fraction to decimal\n",
        "  def convert_to_decimal(self):\n",
        "    return self.num/self.den\n",
        "\n",
        "  def frac_add():\n",
        "    self.num ="
      ]
    }
  ]
}