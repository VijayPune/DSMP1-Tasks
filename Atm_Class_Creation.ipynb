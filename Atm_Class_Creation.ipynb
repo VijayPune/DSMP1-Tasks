{
  "nbformat": 4,
  "nbformat_minor": 0,
  "metadata": {
    "colab": {
      "provenance": [],
      "authorship_tag": "ABX9TyMeD41VgwrUdsfy+kCq0Sst",
      "include_colab_link": true
    },
    "kernelspec": {
      "name": "python3",
      "display_name": "Python 3"
    },
    "language_info": {
      "name": "python"
    }
  },
  "cells": [
    {
      "cell_type": "markdown",
      "metadata": {
        "id": "view-in-github",
        "colab_type": "text"
      },
      "source": [
        "<a href=\"https://colab.research.google.com/github/VijayPune/DSMP1-Tasks/blob/main/Atm_Class_Creation.ipynb\" target=\"_parent\"><img src=\"https://colab.research.google.com/assets/colab-badge.svg\" alt=\"Open In Colab\"/></a>"
      ]
    },
    {
      "cell_type": "markdown",
      "source": [
        "### Demonstrate How to Create a Class and its Object with proper functionalities"
      ],
      "metadata": {
        "id": "-VeD9_tKccQ0"
      }
    },
    {
      "cell_type": "code",
      "source": [
        "class Atm():\n",
        "\n",
        "  def __init__(self):\n",
        "\n",
        "    self.pin = ''\n",
        "    self.balance = 0\n",
        "    self.main_menu()\n",
        "    #   print(id(self))    # Code to check id or self Object which is same as new instance created\n",
        "\n",
        "  def main_menu(self):\n",
        "    user_input = input(\"\"\"\n",
        "    Hi, Welcome to ICICI Bank. Select Options\n",
        "    ------------------------------------------\n",
        "    1. Press '1' to CREATE New Pin\n",
        "    2. Press '2' to CHANGE Pin\n",
        "    3. Press '3' to CHECK BALANCE Amount\n",
        "    4. Press '4' to WIHDRAW Amount\n",
        "    5. Press '5' to DEPOSIT Amount\n",
        "    6. Press '6' to EXIT\n",
        "    ------------------------------------------\n",
        "        \"\"\")\n",
        "\n",
        "    if user_input == '1':\n",
        "      self.create_pin()\n",
        "    elif user_input == '2':\n",
        "      self.change_pin()\n",
        "    elif user_input == '3':\n",
        "      self.check_balance()\n",
        "    elif user_input == '4':\n",
        "      self.withdrawal()\n",
        "    elif user_input == '5':\n",
        "      self.deposit()\n",
        "    else:\n",
        "      print('Thanks for Banking with us. ')\n",
        "      print('Have a Good Day')\n",
        "      exit()\n",
        "\n",
        "\n",
        "  def create_pin(self):\n",
        "    user_pin = input('Enter Your Pin to be set')\n",
        "    self.pin = user_pin\n",
        "\n",
        "    self.balance = int(input(\"Enter your Balance \"))\n",
        "    print('Your Pin has been set successfully.')\n",
        "    self.main_menu()\n",
        "\n",
        "  def change_pin(self):\n",
        "    old_pin = input('Enter Your Pin')\n",
        "    if old_pin == self.pin:\n",
        "      new_pin = input('Enter New Pin to set')\n",
        "      self.pin = new_pin\n",
        "      print('Your New Pin set successfully')\n",
        "      self.main_menu()\n",
        "    else:\n",
        "      print(\"You have entered a wrong Pin, Try again\")\n",
        "    self.main_menu()\n",
        "\n",
        "  def check_balance(self):\n",
        "    check_pin = input(\"enter Your Pin\")\n",
        "    if self.pin == check_pin:\n",
        "      print(\"Your balance amount is, \", self.balance)\n",
        "    else:\n",
        "      print(\"You have entered a wrong Pin, Try again\")\n",
        "    self.main_menu()\n",
        "\n",
        "  def withdrawal(self):\n",
        "    check_pin = input(\"enter Your Pin\")\n",
        "    if self.pin == check_pin:\n",
        "      amount = int(input(\"Enter Amount to be Withdrawn, \"))\n",
        "      if amount > self.balance:\n",
        "        print('Insufficient Funds, Try smaller amount')\n",
        "      else:\n",
        "        self.balance = self.balance - amount\n",
        "        print(\"Withdrawal Successful, Now your New balance is\", self.balance)\n",
        "    else:\n",
        "      print(\"You have entered a wrong Pin, Try again\")\n",
        "    self.main_menu()\n",
        "\n",
        "  def deposit(self):\n",
        "    check_pin = input(\"enter Your Pin\")\n",
        "    if self.pin == check_pin:\n",
        "      amount = int(input(\"Enter Amount to be Deposited, \"))\n",
        "      self.balance = self.balance + amount\n",
        "      print(\"Deposit Successful, Now your New balance is\", self.balance)\n",
        "    else:\n",
        "      print(\"You have entered a wrong Pin, Try again\")\n",
        "    self.main_menu()"
      ],
      "metadata": {
        "id": "W0cO0Jk0cklQ"
      },
      "execution_count": 20,
      "outputs": []
    },
    {
      "cell_type": "code",
      "source": [
        "obj1 = Atm()\n"
      ],
      "metadata": {
        "colab": {
          "base_uri": "https://localhost:8080/"
        },
        "id": "iBxoBTfE9MQm",
        "outputId": "ab5d4714-8b83-478c-a8ba-c51df369450b"
      },
      "execution_count": 16,
      "outputs": [
        {
          "output_type": "stream",
          "name": "stdout",
          "text": [
            "133453136487104\n"
          ]
        }
      ]
    },
    {
      "cell_type": "code",
      "source": [
        "print(id(obj1))"
      ],
      "metadata": {
        "colab": {
          "base_uri": "https://localhost:8080/"
        },
        "id": "a2WweLYt9YoS",
        "outputId": "ca7980e0-e1f4-497d-b9a8-af8460bd0880"
      },
      "execution_count": 17,
      "outputs": [
        {
          "output_type": "stream",
          "name": "stdout",
          "text": [
            "133453136487104\n"
          ]
        }
      ]
    },
    {
      "cell_type": "code",
      "source": [
        "obj2 = Atm()"
      ],
      "metadata": {
        "colab": {
          "base_uri": "https://localhost:8080/"
        },
        "id": "5ZriSJx3cmPh",
        "outputId": "66c85953-9ae0-47ed-b835-0ca35b92b6f1"
      },
      "execution_count": 18,
      "outputs": [
        {
          "output_type": "stream",
          "name": "stdout",
          "text": [
            "133453136739872\n"
          ]
        }
      ]
    },
    {
      "cell_type": "code",
      "source": [
        "print(id(obj2))"
      ],
      "metadata": {
        "colab": {
          "base_uri": "https://localhost:8080/"
        },
        "id": "qUQ6WrmJ9rcG",
        "outputId": "dadc1367-2135-4fb3-a173-66f142575cb8"
      },
      "execution_count": 19,
      "outputs": [
        {
          "output_type": "stream",
          "name": "stdout",
          "text": [
            "133453136739872\n"
          ]
        }
      ]
    }
  ]
}