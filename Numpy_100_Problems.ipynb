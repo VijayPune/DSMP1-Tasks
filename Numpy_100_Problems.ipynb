{
  "nbformat": 4,
  "nbformat_minor": 0,
  "metadata": {
    "colab": {
      "provenance": [],
      "toc_visible": true,
      "authorship_tag": "ABX9TyPB2NQEslsXzigiY3uhLIwi",
      "include_colab_link": true
    },
    "kernelspec": {
      "name": "python3",
      "display_name": "Python 3"
    },
    "language_info": {
      "name": "python"
    }
  },
  "cells": [
    {
      "cell_type": "markdown",
      "metadata": {
        "id": "view-in-github",
        "colab_type": "text"
      },
      "source": [
        "<a href=\"https://colab.research.google.com/github/VijayPune/DSMP1-Tasks/blob/main/Numpy_100_Problems.ipynb\" target=\"_parent\"><img src=\"https://colab.research.google.com/assets/colab-badge.svg\" alt=\"Open In Colab\"/></a>"
      ]
    },
    {
      "cell_type": "markdown",
      "source": [
        "# 100 Numpy Problems"
      ],
      "metadata": {
        "id": "i55UciL3c806"
      }
    },
    {
      "cell_type": "markdown",
      "source": [
        "##### This is a collection of exercises that have been collected in the numpy mailing list, on stack overflow and in the numpy documentation."
      ],
      "metadata": {
        "id": "X7gektu7cseJ"
      }
    },
    {
      "cell_type": "markdown",
      "source": [
        "001 - Import Numpy package under the name np"
      ],
      "metadata": {
        "id": "2NKPAx6Uq8WM"
      }
    },
    {
      "cell_type": "code",
      "source": [
        "import numpy as np"
      ],
      "metadata": {
        "id": "N7faDzUadEOs"
      },
      "execution_count": 2,
      "outputs": []
    },
    {
      "cell_type": "markdown",
      "source": [
        "002 - Print the Numpy version"
      ],
      "metadata": {
        "id": "ZUnJOq1YrFle"
      }
    },
    {
      "cell_type": "code",
      "source": [
        "print(np.__version__)"
      ],
      "metadata": {
        "colab": {
          "base_uri": "https://localhost:8080/"
        },
        "id": "ZAraBJ2PdPwQ",
        "outputId": "e7f08746-1ffc-47a8-a9b4-9001def98b0b"
      },
      "execution_count": 3,
      "outputs": [
        {
          "output_type": "stream",
          "name": "stdout",
          "text": [
            "1.23.5\n"
          ]
        }
      ]
    },
    {
      "cell_type": "markdown",
      "source": [
        "003 - Create a Null Vector of size 10"
      ],
      "metadata": {
        "id": "owYCbwQ9rN7d"
      }
    },
    {
      "cell_type": "code",
      "source": [
        "a1 = np.zeros(10)\n",
        "print(a1)"
      ],
      "metadata": {
        "colab": {
          "base_uri": "https://localhost:8080/"
        },
        "id": "Pf_s8MB7doJn",
        "outputId": "180328d0-2493-4b22-8e26-bd0554d2df4e"
      },
      "execution_count": 4,
      "outputs": [
        {
          "output_type": "stream",
          "name": "stdout",
          "text": [
            "[0. 0. 0. 0. 0. 0. 0. 0. 0. 0.]\n"
          ]
        }
      ]
    },
    {
      "cell_type": "markdown",
      "source": [
        "004 - Find the Memory Size, No of Dimension, Total Elements, Element size in bytes for an array"
      ],
      "metadata": {
        "id": "vcxjpB1zrW9T"
      }
    },
    {
      "cell_type": "code",
      "source": [
        "a1 = np.zeros(12, np.int64).reshape(2,2,3)  # Here we use integer 64\n",
        "print(a1)\n",
        "print('No of dimensions of the array is ', a1.ndim)\n",
        "print('Total no of elements in array is ', a1.size)\n",
        "print('Size of each element in bytes is ', a1.itemsize, ' bytes')\n",
        "print('No. of Bytes used by Array is', (a1.size)*(a1.itemsize), 'bytes')"
      ],
      "metadata": {
        "colab": {
          "base_uri": "https://localhost:8080/"
        },
        "id": "aGwwh6tBeFfb",
        "outputId": "546987f4-bf91-425d-f331-fb6fbef65241"
      },
      "execution_count": 5,
      "outputs": [
        {
          "output_type": "stream",
          "name": "stdout",
          "text": [
            "[[[0 0 0]\n",
            "  [0 0 0]]\n",
            "\n",
            " [[0 0 0]\n",
            "  [0 0 0]]]\n",
            "No of dimensions of the array is  3\n",
            "Total no of elements in array is  12\n",
            "Size of each element in bytes is  8  bytes\n",
            "No. of Bytes used by Array is 96 bytes\n"
          ]
        }
      ]
    },
    {
      "cell_type": "markdown",
      "source": [
        "004 - Create a null vector of size 10 but the fifth element must be 1"
      ],
      "metadata": {
        "id": "3YKZkMEQsXJr"
      }
    },
    {
      "cell_type": "code",
      "source": [
        "a1 = np.zeros(10)\n",
        "a1[5] = 1\n",
        "print(a1)"
      ],
      "metadata": {
        "colab": {
          "base_uri": "https://localhost:8080/"
        },
        "id": "Z7-JtmWqeFxY",
        "outputId": "36e44078-a771-435d-fa2b-a9aa4bd4eca2"
      },
      "execution_count": 6,
      "outputs": [
        {
          "output_type": "stream",
          "name": "stdout",
          "text": [
            "[0. 0. 0. 0. 0. 1. 0. 0. 0. 0.]\n"
          ]
        }
      ]
    },
    {
      "cell_type": "markdown",
      "source": [
        "005 - Create a vector whose element values range from 10 to 49"
      ],
      "metadata": {
        "id": "NTq3K6gjsirp"
      }
    },
    {
      "cell_type": "code",
      "source": [
        "a1 = np.arange(10,50)\n",
        "print(a1)"
      ],
      "metadata": {
        "colab": {
          "base_uri": "https://localhost:8080/"
        },
        "id": "xWB0twUjeF02",
        "outputId": "06640fc1-85c5-4ebe-9d58-13c07b859cc4"
      },
      "execution_count": 7,
      "outputs": [
        {
          "output_type": "stream",
          "name": "stdout",
          "text": [
            "[10 11 12 13 14 15 16 17 18 19 20 21 22 23 24 25 26 27 28 29 30 31 32 33\n",
            " 34 35 36 37 38 39 40 41 42 43 44 45 46 47 48 49]\n"
          ]
        }
      ]
    },
    {
      "cell_type": "markdown",
      "source": [
        "006 - Reverse a vector i.e. first element becomes last and vice versa"
      ],
      "metadata": {
        "id": "SAXcwajesvyS"
      }
    },
    {
      "cell_type": "code",
      "source": [
        "a1 = np.arange(10)\n",
        "print(a1)\n",
        "a2 = a1[::-1]\n",
        "print(a2)"
      ],
      "metadata": {
        "colab": {
          "base_uri": "https://localhost:8080/"
        },
        "id": "AOk3kczahFBt",
        "outputId": "152866e6-0e8c-43e5-f02a-3567835a83b3"
      },
      "execution_count": 8,
      "outputs": [
        {
          "output_type": "stream",
          "name": "stdout",
          "text": [
            "[0 1 2 3 4 5 6 7 8 9]\n",
            "[9 8 7 6 5 4 3 2 1 0]\n"
          ]
        }
      ]
    },
    {
      "cell_type": "markdown",
      "source": [
        "007 - Create a 3x3 matrix with values ranging from 0 to 8"
      ],
      "metadata": {
        "id": "RjbGPAPYs61v"
      }
    },
    {
      "cell_type": "code",
      "source": [
        "a1 = np.arange(9).reshape(3,3)\n",
        "print(a1)"
      ],
      "metadata": {
        "colab": {
          "base_uri": "https://localhost:8080/"
        },
        "id": "gZXpXOkqhFFA",
        "outputId": "640401a3-f774-4cc2-e710-23780471147a"
      },
      "execution_count": 9,
      "outputs": [
        {
          "output_type": "stream",
          "name": "stdout",
          "text": [
            "[[0 1 2]\n",
            " [3 4 5]\n",
            " [6 7 8]]\n"
          ]
        }
      ]
    },
    {
      "cell_type": "markdown",
      "source": [
        "008 - Find indices of non zero elements from [1,2,0,0,4,0]"
      ],
      "metadata": {
        "id": "XToDi5MftEDS"
      }
    },
    {
      "cell_type": "code",
      "source": [
        "import numpy as np\n",
        "\n",
        "a1 = np.array([1,2,0,0,4,0])    # We have non zero elements in index 0,1 and 4\n",
        "a2 = np.nonzero(a1)\n",
        "print(a2)"
      ],
      "metadata": {
        "colab": {
          "base_uri": "https://localhost:8080/"
        },
        "id": "wT3DxsqzhFIs",
        "outputId": "e4b1632d-34f2-46a4-af44-f98e777c3e75"
      },
      "execution_count": 10,
      "outputs": [
        {
          "output_type": "stream",
          "name": "stdout",
          "text": [
            "(array([0, 1, 4]),)\n"
          ]
        }
      ]
    },
    {
      "cell_type": "markdown",
      "source": [
        "009 - Create a 3x3 identity matrix"
      ],
      "metadata": {
        "id": "b-aVjdahtWfc"
      }
    },
    {
      "cell_type": "code",
      "source": [
        "a1 = np.eye(3)\n",
        "print(a1)"
      ],
      "metadata": {
        "id": "qF94cbjDhFMN",
        "colab": {
          "base_uri": "https://localhost:8080/"
        },
        "outputId": "d72de9e0-d78f-4bda-a01f-d3d22f8b5584"
      },
      "execution_count": 11,
      "outputs": [
        {
          "output_type": "stream",
          "name": "stdout",
          "text": [
            "[[1. 0. 0.]\n",
            " [0. 1. 0.]\n",
            " [0. 0. 1.]]\n"
          ]
        }
      ]
    },
    {
      "cell_type": "markdown",
      "source": [
        "010 - Create a 3x3x3 array with random values"
      ],
      "metadata": {
        "id": "bo7d-xhatVLN"
      }
    },
    {
      "cell_type": "code",
      "source": [
        "a1 = np.random.random((3,3,3))\n",
        "print(a1)"
      ],
      "metadata": {
        "id": "CBHRstj-hFQd",
        "colab": {
          "base_uri": "https://localhost:8080/"
        },
        "outputId": "6bcf9389-9307-42af-fa24-a1cdfecd6dc6"
      },
      "execution_count": 12,
      "outputs": [
        {
          "output_type": "stream",
          "name": "stdout",
          "text": [
            "[[[0.54195253 0.33165692 0.15760975]\n",
            "  [0.5134513  0.95690305 0.743635  ]\n",
            "  [0.66351429 0.97811627 0.67622363]]\n",
            "\n",
            " [[0.28508758 0.61124374 0.36342845]\n",
            "  [0.25594407 0.64572287 0.6477013 ]\n",
            "  [0.39734161 0.8525982  0.73511569]]\n",
            "\n",
            " [[0.71499818 0.32677316 0.02960012]\n",
            "  [0.01479953 0.71935849 0.08647588]\n",
            "  [0.39713839 0.85564181 0.34534996]]]\n"
          ]
        }
      ]
    },
    {
      "cell_type": "markdown",
      "source": [
        "011 - Create a 10x10 array with random values and find the minimum and maximum values"
      ],
      "metadata": {
        "id": "On_O6N5RuGFb"
      }
    },
    {
      "cell_type": "code",
      "source": [
        "a1 = np.random.random((10,10))*10\n",
        "print(a1)\n",
        "print('Value of the smallest element is', a1.min())\n",
        "print('Value of the largest element is', a1.max())"
      ],
      "metadata": {
        "id": "iJI2vjkkhFT9",
        "colab": {
          "base_uri": "https://localhost:8080/"
        },
        "outputId": "db6ae710-0966-4157-f84c-214f33d389f4"
      },
      "execution_count": 13,
      "outputs": [
        {
          "output_type": "stream",
          "name": "stdout",
          "text": [
            "[[7.06843344 0.39270447 4.05431511 2.02290698 9.71547854 4.85550157\n",
            "  6.18590277 1.57855168 3.77192885 7.41079315]\n",
            " [0.96981888 0.78700971 1.70010443 5.96550888 8.94720169 9.74946467\n",
            "  3.07427931 9.51302785 4.8571673  0.79916801]\n",
            " [4.49394661 8.97015584 5.58444351 1.62973149 7.48379659 5.33395562\n",
            "  3.2854062  0.01476431 1.14053986 4.9106502 ]\n",
            " [9.96539134 1.59725438 0.875136   5.69191846 6.35580942 0.89214946\n",
            "  3.55959344 7.22850714 9.50936891 6.11818689]\n",
            " [7.36449797 0.90663144 7.51340184 4.85156936 8.24307181 8.38669885\n",
            "  6.38962175 8.04920209 0.99723733 6.4123206 ]\n",
            " [9.76573734 6.98324764 9.62483429 5.38212585 8.20250724 2.61140342\n",
            "  0.09148878 0.90386743 0.85386879 9.40494106]\n",
            " [2.62037959 4.6786546  2.11256337 9.38129083 9.70787689 6.70596065\n",
            "  4.02338806 3.01625937 2.7106254  9.11724832]\n",
            " [3.34864683 0.39965896 6.3095408  6.94637635 2.94402815 0.23498631\n",
            "  4.11369009 6.46076466 0.2740468  3.26907643]\n",
            " [8.79230778 1.05481353 4.88912506 2.06986789 8.46758885 1.21965573\n",
            "  7.61489852 1.8037585  6.63446313 3.27974775]\n",
            " [8.06134949 6.70001569 0.82206438 2.92090191 2.27763638 0.91900944\n",
            "  1.59673137 6.26415202 0.53409974 0.99567078]]\n",
            "Value of the smallest element is 0.0147643105631301\n",
            "Value of the largest element is 9.965391343059991\n"
          ]
        }
      ]
    },
    {
      "cell_type": "markdown",
      "source": [
        "012 - Create a random vector of size 30 and find the mean value\n"
      ],
      "metadata": {
        "id": "i-F05W9SuUG7"
      }
    },
    {
      "cell_type": "code",
      "source": [
        "a1 = np.random.random(30)\n",
        "print(a1)\n",
        "print('The Mean of all the elements is', a1.mean())"
      ],
      "metadata": {
        "id": "g8naKLRbhFXw",
        "colab": {
          "base_uri": "https://localhost:8080/"
        },
        "outputId": "1cccf4a1-4ab5-48f0-96ac-0bf76c097e36"
      },
      "execution_count": 14,
      "outputs": [
        {
          "output_type": "stream",
          "name": "stdout",
          "text": [
            "[0.73189426 0.18385556 0.56408135 0.33486906 0.20849292 0.82791392\n",
            " 0.40076585 0.12982193 0.25001766 0.38653046 0.40795842 0.76266718\n",
            " 0.96503902 0.46030899 0.45080892 0.95516187 0.50043674 0.37860834\n",
            " 0.48359966 0.75726549 0.63742944 0.03918412 0.22350641 0.82777839\n",
            " 0.580719   0.39768947 0.53007884 0.38557768 0.18080359 0.85856251]\n",
            "The Mean of all the elements is 0.49338090161927917\n"
          ]
        }
      ]
    },
    {
      "cell_type": "markdown",
      "source": [
        "013 - Create a 2D array with 1 on the border and 0 inside"
      ],
      "metadata": {
        "id": "CEa3XuJyynsh"
      }
    },
    {
      "cell_type": "code",
      "source": [
        "a1 = np.ones((7,7))\n",
        "a1[1:-1,1:-1] = 0       # We use indexing. 1 is INCLUSIVE and -1 is EXCLUDED\n",
        "print(a1)"
      ],
      "metadata": {
        "id": "vuMRRgTAeF4W",
        "colab": {
          "base_uri": "https://localhost:8080/"
        },
        "outputId": "4e19ab7c-ad8f-4bb0-88bd-3630f2f84af9"
      },
      "execution_count": 15,
      "outputs": [
        {
          "output_type": "stream",
          "name": "stdout",
          "text": [
            "[[1. 1. 1. 1. 1. 1. 1.]\n",
            " [1. 0. 0. 0. 0. 0. 1.]\n",
            " [1. 0. 0. 0. 0. 0. 1.]\n",
            " [1. 0. 0. 0. 0. 0. 1.]\n",
            " [1. 0. 0. 0. 0. 0. 1.]\n",
            " [1. 0. 0. 0. 0. 0. 1.]\n",
            " [1. 1. 1. 1. 1. 1. 1.]]\n"
          ]
        }
      ]
    },
    {
      "cell_type": "markdown",
      "source": [
        "014 - Add a border with all 0's around a existing array"
      ],
      "metadata": {
        "id": "aTIy1GG1y5X4"
      }
    },
    {
      "cell_type": "code",
      "source": [
        "a1 = np.arange(1,10).reshape(3,3)\n",
        "print(a1)\n",
        "a1 = np.pad(a1, pad_width=1, constant_values=0)\n",
        "print(a1)"
      ],
      "metadata": {
        "id": "lHX2eRT7eF7-",
        "colab": {
          "base_uri": "https://localhost:8080/"
        },
        "outputId": "f4c44bfc-15e5-4065-d235-a093c19b3f30"
      },
      "execution_count": 16,
      "outputs": [
        {
          "output_type": "stream",
          "name": "stdout",
          "text": [
            "[[1 2 3]\n",
            " [4 5 6]\n",
            " [7 8 9]]\n",
            "[[0 0 0 0 0]\n",
            " [0 1 2 3 0]\n",
            " [0 4 5 6 0]\n",
            " [0 7 8 9 0]\n",
            " [0 0 0 0 0]]\n"
          ]
        }
      ]
    },
    {
      "cell_type": "markdown",
      "source": [
        "015 - What is the result of following expressions?"
      ],
      "metadata": {
        "id": "HRyn0TjczNFd"
      }
    },
    {
      "cell_type": "code",
      "source": [
        "a1 = np.nan\n",
        "print(a1*0)\n",
        "print(np.nan == np.nan)\n",
        "a2 = np.inf\n",
        "print(a2)\n",
        "print(np.inf > np.nan)\n",
        "print(np.nan - np.nan)\n",
        "print(np.inf - np.inf)\n",
        "print(0.1 * 3)\n",
        "print(0.3 == 0.1*3)\n",
        "print(np.nan in set([np.nan]))"
      ],
      "metadata": {
        "colab": {
          "base_uri": "https://localhost:8080/"
        },
        "id": "dvtbtyQbzX-t",
        "outputId": "e25e0c04-d482-48c0-86a4-906d90d36f1f"
      },
      "execution_count": 17,
      "outputs": [
        {
          "output_type": "stream",
          "name": "stdout",
          "text": [
            "nan\n",
            "False\n",
            "inf\n",
            "False\n",
            "nan\n",
            "nan\n",
            "0.30000000000000004\n",
            "False\n",
            "True\n"
          ]
        }
      ]
    },
    {
      "cell_type": "markdown",
      "source": [
        "016 - Show how np.diag works"
      ],
      "metadata": {
        "id": "9EBypvq80s1Y"
      }
    },
    {
      "cell_type": "code",
      "source": [
        "x = np.arange(25).reshape(5,5)      # It is a 5x5 Square Matrix\n",
        "print(x, end='\\n\\n')                # end='\\n\\n' is used just to have additional blank line\n",
        "print(np.diag(x))                   # Used to Extract elements in Diagonal of Matrix x\n",
        "print(np.diag(x, k=1))              # Used to extract elements ONE layer ABOVE Diagonal line\n",
        "print(np.diag(x, k=2))              # Used to extract elements TWO layer ABOVE Diagonal line\n",
        "print(np.diag(x, k=-1))             # Used to extract elements ONE layer BELOW Diagonal line\n",
        "print(np.diag(x, k=-2))             # Used to extract elements TWO layer BELOW Diagonal line"
      ],
      "metadata": {
        "colab": {
          "base_uri": "https://localhost:8080/"
        },
        "id": "Sz8nGVA7O20f",
        "outputId": "bb159c9d-2388-49d8-add8-962cca1a812f"
      },
      "execution_count": 18,
      "outputs": [
        {
          "output_type": "stream",
          "name": "stdout",
          "text": [
            "[[ 0  1  2  3  4]\n",
            " [ 5  6  7  8  9]\n",
            " [10 11 12 13 14]\n",
            " [15 16 17 18 19]\n",
            " [20 21 22 23 24]]\n",
            "\n",
            "[ 0  6 12 18 24]\n",
            "[ 1  7 13 19]\n",
            "[ 2  8 14]\n",
            "[ 5 11 17 23]\n",
            "[10 16 22]\n"
          ]
        }
      ]
    },
    {
      "cell_type": "markdown",
      "source": [
        "017 - Create a 5x5 matrix with values 1,2,3,4 just below the diagonal"
      ],
      "metadata": {
        "id": "vxP_2q811BpQ"
      }
    },
    {
      "cell_type": "code",
      "source": [
        "z = np.diag(1+np.arange(4),k=-1)\n",
        "print(z)\n"
      ],
      "metadata": {
        "id": "mh8LNACteF_p",
        "colab": {
          "base_uri": "https://localhost:8080/"
        },
        "outputId": "40757ead-0846-44e7-c1ec-89538d35db7e"
      },
      "execution_count": 19,
      "outputs": [
        {
          "output_type": "stream",
          "name": "stdout",
          "text": [
            "[[0 0 0 0 0]\n",
            " [1 0 0 0 0]\n",
            " [0 2 0 0 0]\n",
            " [0 0 3 0 0]\n",
            " [0 0 0 4 0]]\n"
          ]
        }
      ]
    },
    {
      "cell_type": "markdown",
      "source": [
        "018 - Some more examples of np.diag() use cases"
      ],
      "metadata": {
        "id": "zaKJ_kK51Qbf"
      }
    },
    {
      "cell_type": "code",
      "source": [
        "z = np.arange((5))\n",
        "print(z)\n",
        "\n",
        "print()\n",
        "z = np.diag(np.arange(5))\n",
        "print(z)\n",
        "print()\n",
        "\n",
        "z = np.diag(1+np.arange(4))\n",
        "print(z)\n",
        "print()\n",
        "\n",
        "z = np.diag(1+np.arange(4), k=-1) # Create a 5x5 matrix with values 1,2,3,4 just below the diagonal\n",
        "print(z)"
      ],
      "metadata": {
        "colab": {
          "base_uri": "https://localhost:8080/"
        },
        "id": "5aOryG_cRQMw",
        "outputId": "4775b429-f6e8-43ed-8c31-337904527638"
      },
      "execution_count": 20,
      "outputs": [
        {
          "output_type": "stream",
          "name": "stdout",
          "text": [
            "[0 1 2 3 4]\n",
            "\n",
            "[[0 0 0 0 0]\n",
            " [0 1 0 0 0]\n",
            " [0 0 2 0 0]\n",
            " [0 0 0 3 0]\n",
            " [0 0 0 0 4]]\n",
            "\n",
            "[[1 0 0 0]\n",
            " [0 2 0 0]\n",
            " [0 0 3 0]\n",
            " [0 0 0 4]]\n",
            "\n",
            "[[0 0 0 0 0]\n",
            " [1 0 0 0 0]\n",
            " [0 2 0 0 0]\n",
            " [0 0 3 0 0]\n",
            " [0 0 0 4 0]]\n"
          ]
        }
      ]
    },
    {
      "cell_type": "markdown",
      "source": [
        "019 - Create a 8x8 matrix and fill it with a checkerboard pattern"
      ],
      "metadata": {
        "id": "APRiaRHk1Zan"
      }
    },
    {
      "cell_type": "code",
      "source": [
        "a1 = np.zeros(64, np.int8).reshape(8,8)\n",
        "\n",
        "a1[1::2, ::2 ] = 1    # Fill 1 in all alternate rows from 1st to last & alternate columns from 0th to last\n",
        "a1[ ::2,1::2 ] = 1    # Fill 1 in all alternate rows from 0th to last & alternate columns from 1st to last\n",
        "print(a1)"
      ],
      "metadata": {
        "colab": {
          "base_uri": "https://localhost:8080/"
        },
        "id": "JoGnYG5_S1uW",
        "outputId": "b7c7d84e-9022-4eb3-8e97-16854325bbcc"
      },
      "execution_count": 21,
      "outputs": [
        {
          "output_type": "stream",
          "name": "stdout",
          "text": [
            "[[0 1 0 1 0 1 0 1]\n",
            " [1 0 1 0 1 0 1 0]\n",
            " [0 1 0 1 0 1 0 1]\n",
            " [1 0 1 0 1 0 1 0]\n",
            " [0 1 0 1 0 1 0 1]\n",
            " [1 0 1 0 1 0 1 0]\n",
            " [0 1 0 1 0 1 0 1]\n",
            " [1 0 1 0 1 0 1 0]]\n"
          ]
        }
      ]
    },
    {
      "cell_type": "markdown",
      "source": [
        "020 - Consider a (6,7,8) shape array, what is the index (x,y,z) of the 100th element?"
      ],
      "metadata": {
        "id": "bcmZCQAM2QEs"
      }
    },
    {
      "cell_type": "code",
      "source": [
        "print(np.arange(10).reshape(1,10))\n",
        "print('Index value of 4th element is ', end='')\n",
        "print(np.unravel_index(4,(10)))     # For a 1D array with elements from 0 to 9\n",
        "                                    # Index value for element'4' will also be 4\n",
        "print()\n",
        "\n",
        "print(np.arange(9).reshape(3,3))\n",
        "print('Index value of 5th element is ', end='')\n",
        "print(np.unravel_index(5,(3,3)))     # For a 2D array with elements from 0 to 9\n",
        "                                    # Index value for element'5' will be(1,2)\n",
        "print()\n",
        "print(np.arange(336).reshape(6,7,8))\n",
        "print('Index value of 100th element is ', end='')\n",
        "print(np.unravel_index(100,(6,7,8)))\n"
      ],
      "metadata": {
        "colab": {
          "base_uri": "https://localhost:8080/"
        },
        "id": "Si29nkenS1xk",
        "outputId": "3b145da6-2fe7-4cae-cbe5-098853ff3b56"
      },
      "execution_count": 22,
      "outputs": [
        {
          "output_type": "stream",
          "name": "stdout",
          "text": [
            "[[0 1 2 3 4 5 6 7 8 9]]\n",
            "Index value of 4th element is (4,)\n",
            "\n",
            "[[0 1 2]\n",
            " [3 4 5]\n",
            " [6 7 8]]\n",
            "Index value of 5th element is (1, 2)\n",
            "\n",
            "[[[  0   1   2   3   4   5   6   7]\n",
            "  [  8   9  10  11  12  13  14  15]\n",
            "  [ 16  17  18  19  20  21  22  23]\n",
            "  [ 24  25  26  27  28  29  30  31]\n",
            "  [ 32  33  34  35  36  37  38  39]\n",
            "  [ 40  41  42  43  44  45  46  47]\n",
            "  [ 48  49  50  51  52  53  54  55]]\n",
            "\n",
            " [[ 56  57  58  59  60  61  62  63]\n",
            "  [ 64  65  66  67  68  69  70  71]\n",
            "  [ 72  73  74  75  76  77  78  79]\n",
            "  [ 80  81  82  83  84  85  86  87]\n",
            "  [ 88  89  90  91  92  93  94  95]\n",
            "  [ 96  97  98  99 100 101 102 103]\n",
            "  [104 105 106 107 108 109 110 111]]\n",
            "\n",
            " [[112 113 114 115 116 117 118 119]\n",
            "  [120 121 122 123 124 125 126 127]\n",
            "  [128 129 130 131 132 133 134 135]\n",
            "  [136 137 138 139 140 141 142 143]\n",
            "  [144 145 146 147 148 149 150 151]\n",
            "  [152 153 154 155 156 157 158 159]\n",
            "  [160 161 162 163 164 165 166 167]]\n",
            "\n",
            " [[168 169 170 171 172 173 174 175]\n",
            "  [176 177 178 179 180 181 182 183]\n",
            "  [184 185 186 187 188 189 190 191]\n",
            "  [192 193 194 195 196 197 198 199]\n",
            "  [200 201 202 203 204 205 206 207]\n",
            "  [208 209 210 211 212 213 214 215]\n",
            "  [216 217 218 219 220 221 222 223]]\n",
            "\n",
            " [[224 225 226 227 228 229 230 231]\n",
            "  [232 233 234 235 236 237 238 239]\n",
            "  [240 241 242 243 244 245 246 247]\n",
            "  [248 249 250 251 252 253 254 255]\n",
            "  [256 257 258 259 260 261 262 263]\n",
            "  [264 265 266 267 268 269 270 271]\n",
            "  [272 273 274 275 276 277 278 279]]\n",
            "\n",
            " [[280 281 282 283 284 285 286 287]\n",
            "  [288 289 290 291 292 293 294 295]\n",
            "  [296 297 298 299 300 301 302 303]\n",
            "  [304 305 306 307 308 309 310 311]\n",
            "  [312 313 314 315 316 317 318 319]\n",
            "  [320 321 322 323 324 325 326 327]\n",
            "  [328 329 330 331 332 333 334 335]]]\n",
            "Index value of 100th element is (1, 5, 4)\n"
          ]
        }
      ]
    },
    {
      "cell_type": "markdown",
      "source": [
        "020 - Alternate Method for above problem No 018"
      ],
      "metadata": {
        "id": "730dSR1K2a8k"
      }
    },
    {
      "cell_type": "code",
      "source": [
        "a1 = np.tile( np.array([[0,1],[1,0]]), (4,4))\n",
        "print(a1)"
      ],
      "metadata": {
        "colab": {
          "base_uri": "https://localhost:8080/"
        },
        "id": "pAQ_DkSjS11M",
        "outputId": "ce621526-5c62-4646-a0df-6989f307959b"
      },
      "execution_count": 23,
      "outputs": [
        {
          "output_type": "stream",
          "name": "stdout",
          "text": [
            "[[0 1 0 1 0 1 0 1]\n",
            " [1 0 1 0 1 0 1 0]\n",
            " [0 1 0 1 0 1 0 1]\n",
            " [1 0 1 0 1 0 1 0]\n",
            " [0 1 0 1 0 1 0 1]\n",
            " [1 0 1 0 1 0 1 0]\n",
            " [0 1 0 1 0 1 0 1]\n",
            " [1 0 1 0 1 0 1 0]]\n"
          ]
        }
      ]
    },
    {
      "cell_type": "markdown",
      "source": [
        "021 - Use of random() function, two use cases"
      ],
      "metadata": {
        "id": "lLJko2ta3OKt"
      }
    },
    {
      "cell_type": "code",
      "source": [
        "a1 = np.random.random(25).reshape(5,5)\n",
        "print(a1)\n",
        "a2 = np.random.random((5,5))\n",
        "print(a2)"
      ],
      "metadata": {
        "id": "1cE4rrhj3RXe",
        "outputId": "1a686af1-c9a0-4232-a71e-a57c92680b6c",
        "colab": {
          "base_uri": "https://localhost:8080/"
        }
      },
      "execution_count": 24,
      "outputs": [
        {
          "output_type": "stream",
          "name": "stdout",
          "text": [
            "[[0.27449682 0.23625081 0.55352019 0.6803992  0.18392256]\n",
            " [0.74330137 0.21686866 0.57507775 0.93425044 0.60386176]\n",
            " [0.24899441 0.95302331 0.37919919 0.66565395 0.02116757]\n",
            " [0.8332754  0.38034782 0.32983814 0.79700653 0.85198445]\n",
            " [0.87572735 0.23894941 0.44854043 0.75671601 0.33807924]]\n",
            "[[0.58127411 0.33692759 0.83795138 0.40286561 0.45153069]\n",
            " [0.11330273 0.33194392 0.13566157 0.73811876 0.52992586]\n",
            " [0.28066291 0.86834505 0.63905691 0.39451481 0.7524965 ]\n",
            " [0.8130303  0.41166625 0.83216547 0.16634126 0.79428626]\n",
            " [0.45366148 0.1455554  0.89015884 0.30743199 0.67424964]]\n"
          ]
        }
      ]
    },
    {
      "cell_type": "markdown",
      "source": [
        "022 - Normalize a 5x5 random matrix"
      ],
      "metadata": {
        "id": "jrjzYwa137nN"
      }
    },
    {
      "cell_type": "markdown",
      "source": [
        "The data can be normalized by subtracting the mean (µ) of each feature and a division by the standard deviation (σ). This way, each feature has a mean of 0 and a standard deviation of 1. This results in faster convergence.\n",
        "\n",
        "Calculate the mean and standard deviation of your dataset\n",
        "\n",
        "https://towardsdatascience.com/how-to-calculate-the-mean-and-standard-deviation-normalizing-datasets-in-pytorch-704bd7d05f4c#:~:text=The%20data%20can%20be%20normalized,channel%20is%20normalized%20this%20way."
      ],
      "metadata": {
        "id": "9aCchyP84_eo"
      }
    },
    {
      "cell_type": "code",
      "source": [
        "a1 = np.random.random((5,5))\n",
        "print(a1)\n",
        "print()\n",
        "a1 = (a1 - np.mean (a1)) / (np.std (a1))  # Formula to Normaliza two parameters\n",
        "print(a1)"
      ],
      "metadata": {
        "id": "7HyaLLqP4CBl",
        "outputId": "e1d270c1-07ef-463f-e64a-b89358b90944",
        "colab": {
          "base_uri": "https://localhost:8080/"
        }
      },
      "execution_count": 25,
      "outputs": [
        {
          "output_type": "stream",
          "name": "stdout",
          "text": [
            "[[0.42909637 0.8973008  0.05262685 0.49536206 0.48241895]\n",
            " [0.11991795 0.3189215  0.69162127 0.20869742 0.59273287]\n",
            " [0.09296747 0.85413598 0.87991032 0.76567082 0.2612075 ]\n",
            " [0.74332196 0.62453251 0.13228391 0.74414946 0.68657642]\n",
            " [0.26861893 0.70467573 0.83956953 0.08533263 0.72161978]]\n",
            "\n",
            "[[-0.28023341  1.38833068 -1.62187709 -0.04407897 -0.090205  ]\n",
            " [-1.38206837 -0.6728692   0.65534001 -1.0656804   0.30292637]\n",
            " [-1.47811317  1.23450201  1.32635535  0.91923418 -0.87854757]\n",
            " [ 0.83958843  0.41625236 -1.33799914  0.84253743  0.63736144]\n",
            " [-0.85213506  0.70186288  1.18259082 -1.50532184  0.76224725]]\n"
          ]
        }
      ]
    },
    {
      "cell_type": "markdown",
      "source": [
        "023 - Create a custom dtype that describes a color as four unsigned bytes (RGBA)"
      ],
      "metadata": {
        "id": "jI81h8fh6ALn"
      }
    },
    {
      "cell_type": "code",
      "source": [
        "color = np.dtype([(\"r\", np.ubyte, 1),\n",
        "                  (\"g\", np.ubyte, 1),\n",
        "                  (\"b\", np.ubyte, 1),\n",
        "                  (\"a\", np.ubyte, 1)])"
      ],
      "metadata": {
        "id": "qwqWHg7eaUY1",
        "outputId": "28828460-588c-465d-923c-96e530a4b787",
        "colab": {
          "base_uri": "https://localhost:8080/"
        }
      },
      "execution_count": 27,
      "outputs": [
        {
          "output_type": "stream",
          "name": "stderr",
          "text": [
            "<ipython-input-27-b9f1a6f5df9c>:1: FutureWarning: Passing (type, 1) or '1type' as a synonym of type is deprecated; in a future version of numpy, it will be understood as (type, (1,)) / '(1,)type'.\n",
            "  color = np.dtype([(\"r\", np.ubyte, 1),\n"
          ]
        }
      ]
    },
    {
      "cell_type": "markdown",
      "source": [
        "024 - Multiply a 5x3 matrix by a 3x2 matrix (real matrix product)"
      ],
      "metadata": {
        "id": "UhIWJ0vLamD5"
      }
    },
    {
      "cell_type": "code",
      "source": [
        "a1 = np.arange(15).reshape(5,3)\n",
        "a2 = np.arange(1,7).reshape(3,2)\n",
        "print(a1)\n",
        "print(a2)\n",
        "np.dot(a1,a2)"
      ],
      "metadata": {
        "id": "eIMaqUVharhN",
        "outputId": "0b6e9c6e-7900-4007-bd48-739b170bfe2c",
        "colab": {
          "base_uri": "https://localhost:8080/"
        }
      },
      "execution_count": 36,
      "outputs": [
        {
          "output_type": "stream",
          "name": "stdout",
          "text": [
            "[[ 0  1  2]\n",
            " [ 3  4  5]\n",
            " [ 6  7  8]\n",
            " [ 9 10 11]\n",
            " [12 13 14]]\n",
            "[[1 2]\n",
            " [3 4]\n",
            " [5 6]]\n"
          ]
        },
        {
          "output_type": "execute_result",
          "data": {
            "text/plain": [
              "array([[ 13,  16],\n",
              "       [ 40,  52],\n",
              "       [ 67,  88],\n",
              "       [ 94, 124],\n",
              "       [121, 160]])"
            ]
          },
          "metadata": {},
          "execution_count": 36
        }
      ]
    },
    {
      "cell_type": "markdown",
      "source": [
        "025 - Given a 1D array, negate all elements which are between 3 and 8, in place"
      ],
      "metadata": {
        "id": "LVdo6dv1b9k2"
      }
    },
    {
      "cell_type": "code",
      "source": [
        "a1 = np.array([1,6,0,5,3,6,23,12,5,7,9,4,1,40])\n",
        "print(a1)\n",
        "a1[(3<a1) & (a1<8)] *= -1\n",
        "print(a1)"
      ],
      "metadata": {
        "id": "Ulnn-GlNcI-N",
        "outputId": "ca1b0fb7-1c91-4c44-9879-b1f85fcf33f4",
        "colab": {
          "base_uri": "https://localhost:8080/"
        }
      },
      "execution_count": 41,
      "outputs": [
        {
          "output_type": "stream",
          "name": "stdout",
          "text": [
            "[ 1  6  0  5  3  6 23 12  5  7  9  4  1 40]\n",
            "[ 1 -6  0 -5  3 -6 23 12 -5 -7  9 -4  1 40]\n"
          ]
        }
      ]
    },
    {
      "cell_type": "markdown",
      "source": [
        "026 - What is the output of the following script?\n",
        "print(sum(range(5),-1))\n",
        "from numpy import *\n",
        "print(sum(range(5),-1))\n",
        "  "
      ],
      "metadata": {
        "id": "fiFZQqo4cLRJ"
      }
    },
    {
      "cell_type": "code",
      "source": [
        "print(sum(range(5), -1))    # Using Pythons 'sum' function output should be 9\n",
        "from numpy import *         # We are importing Numpy Libraries now\n",
        "print(sum(range(5), -1))    # Using Numpy 'sum' function output should be 10"
      ],
      "metadata": {
        "id": "tcpDqu-8kbsY",
        "outputId": "4ec98222-655e-4012-ed29-80e4cfb12137",
        "colab": {
          "base_uri": "https://localhost:8080/"
        }
      },
      "execution_count": 53,
      "outputs": [
        {
          "output_type": "stream",
          "name": "stdout",
          "text": [
            "10\n",
            "10\n"
          ]
        }
      ]
    },
    {
      "cell_type": "markdown",
      "source": [
        "Using Python's built-in sum function:\n",
        "\n",
        "print(sum(range(5), -1))\n",
        "\n",
        "range(5) generates the numbers 0 to 4.and sum(range(5), -1) calculates the sum of the numbers in the range, and the second argument -1 is an initial value for the sum. In this case, it starts from -1 and adds the numbers in the range.\n",
        "The output is the sum of the numbers in the range plus the initial value (-1), which is 9.\n",
        "\n",
        "Using Numpy's sum function:\n",
        "\n",
        "from numpy import *\n",
        "print(sum(range(5), -1))\n",
        "\n",
        "from numpy import * imports all functions and classes from the Numpy library.\n",
        "sum(range(5), -1) calculates the sum of the numbers in the range using the Numpy sum function. The second argument -1 indicates the axis along which the sum is calculated. In this case, -1 means the last axis (axis 1 for a 1D array).\n",
        "The output is the sum of the numbers in the range along the specified axis. The sum along axis 1 is [0+1+2+3+4], which is 10.\n",
        "\n",
        "So, the final output of the three line code will be:\n",
        "9\n",
        "10\n",
        "\n",
        "\n",
        "\n",
        "\n"
      ],
      "metadata": {
        "id": "Jg1uAawcnFyH"
      }
    },
    {
      "cell_type": "markdown",
      "source": [
        "027 - How to find common values between two arrays?"
      ],
      "metadata": {
        "id": "Vw355oqmnfXa"
      }
    },
    {
      "cell_type": "code",
      "source": [
        "a1 = np.random.randint(1,10,10)\n",
        "print(a1)\n",
        "a2 = np.random.randint(1,10,10)\n",
        "print(a2)\n",
        "print(np.intersect1d(a1,a2))      # Use Two Set Intersection theory"
      ],
      "metadata": {
        "id": "gRjgy_OHcLZa",
        "outputId": "3c026889-d709-4a8f-cb49-b9d3d057f21a",
        "colab": {
          "base_uri": "https://localhost:8080/"
        }
      },
      "execution_count": 57,
      "outputs": [
        {
          "output_type": "stream",
          "name": "stdout",
          "text": [
            "[8 9 2 1 7 2 8 4 3 6]\n",
            "[5 5 9 2 8 1 3 2 4 2]\n",
            "[1 2 3 4 8 9]\n"
          ]
        }
      ]
    },
    {
      "cell_type": "markdown",
      "source": [
        "028 - Is the following expressions true?\n",
        "      np.sqrt(-1) == np.emath.sqrt(-1)"
      ],
      "metadata": {
        "id": "LG-iPHmXcLjp"
      }
    },
    {
      "cell_type": "code",
      "source": [
        "np.sqrt(-1) == np.emath.sqrt(-1)"
      ],
      "metadata": {
        "id": "mUZguOlHcLs9",
        "outputId": "4bc543bb-d4ea-4147-d844-74103134c25a",
        "colab": {
          "base_uri": "https://localhost:8080/"
        }
      },
      "execution_count": 58,
      "outputs": [
        {
          "output_type": "stream",
          "name": "stderr",
          "text": [
            "<ipython-input-58-16339fbc685e>:1: RuntimeWarning: invalid value encountered in sqrt\n",
            "  np.sqrt(-1) == np.emath.sqrt(-1)\n"
          ]
        },
        {
          "output_type": "execute_result",
          "data": {
            "text/plain": [
              "False"
            ]
          },
          "metadata": {},
          "execution_count": 58
        }
      ]
    },
    {
      "cell_type": "markdown",
      "source": [
        "The line of code np.sqrt(-1) == np.emath.sqrt(-1) will result in False. Let's break down the justification for this answer:\n",
        "\n",
        "np.sqrt(-1):\n",
        "\n",
        "Using np.sqrt (square root function from Numpy) on a negative number results in a complex number with a real part of 0 and an imaginary part of 1j. So, np.sqrt(-1) evaluates to 1j.\n",
        "np.emath.sqrt(-1):\n",
        "\n",
        "Using np.emath.sqrt (square root function from Numpy's emath module) on a negative number also results in a complex number. However, unlike np.sqrt, np.emath.sqrt returns a complex number with a real part of 0 and an imaginary part of 1j.\n",
        "Therefore, np.sqrt(-1) == np.emath.sqrt(-1) is comparing a complex number (1j) with another complex number (1j), and the result is False. While these two complex numbers represent the same mathematical value, they are not considered equal by the == operator **due to potential floating-point precision differences.** For numerical comparisons, it's often better to check whether the difference is within a small tolerance rather than exact equality."
      ],
      "metadata": {
        "id": "UnfVjSxOpXO6"
      }
    },
    {
      "cell_type": "markdown",
      "source": [
        "029 - How to get the dates of yesterday, today and tomorrow?"
      ],
      "metadata": {
        "id": "nTJrzjJjcL2W"
      }
    },
    {
      "cell_type": "code",
      "source": [
        "today = np.datetime64('today', 'D')\n",
        "print(today)\n",
        "yesterday = np.datetime64('today', 'D') - np.timedelta64(1, 'D')\n",
        "print(yesterday)\n",
        "dayaftertomorrow = np.datetime64('today', 'D') + np.timedelta64(2, 'D')\n",
        "print(dayaftertomorrow)"
      ],
      "metadata": {
        "id": "pK0U2VvbcMDu",
        "outputId": "18d648bd-037e-4047-a04f-af6d248d0e9b",
        "colab": {
          "base_uri": "https://localhost:8080/"
        }
      },
      "execution_count": 69,
      "outputs": [
        {
          "output_type": "stream",
          "name": "stdout",
          "text": [
            "2023-12-07\n",
            "2023-12-06\n",
            "2023-12-09\n"
          ]
        }
      ]
    },
    {
      "cell_type": "markdown",
      "source": [
        "030 - How to get all the dates corresponding to the month of Dec 2023?"
      ],
      "metadata": {
        "id": "m9-VAJXGcMOI"
      }
    },
    {
      "cell_type": "code",
      "source": [
        "a1 = np.arange('2023-12','2024-01', dtype ='datetime64[D]')\n",
        "print(a1)"
      ],
      "metadata": {
        "id": "CR8tmqjEcMXH",
        "outputId": "aaca871f-de0e-4f70-86a8-fbbb1db06617",
        "colab": {
          "base_uri": "https://localhost:8080/"
        }
      },
      "execution_count": 74,
      "outputs": [
        {
          "output_type": "stream",
          "name": "stdout",
          "text": [
            "['2023-12-01' '2023-12-02' '2023-12-03' '2023-12-04' '2023-12-05'\n",
            " '2023-12-06' '2023-12-07' '2023-12-08' '2023-12-09' '2023-12-10'\n",
            " '2023-12-11' '2023-12-12' '2023-12-13' '2023-12-14' '2023-12-15'\n",
            " '2023-12-16' '2023-12-17' '2023-12-18' '2023-12-19' '2023-12-20'\n",
            " '2023-12-21' '2023-12-22' '2023-12-23' '2023-12-24' '2023-12-25'\n",
            " '2023-12-26' '2023-12-27' '2023-12-28' '2023-12-29' '2023-12-30'\n",
            " '2023-12-31']\n"
          ]
        }
      ]
    },
    {
      "cell_type": "markdown",
      "source": [
        "031 - How to compute ((A+B)*(-A/2)) in place (without copy)? ("
      ],
      "metadata": {
        "id": "rsXACkGkcMgb"
      }
    },
    {
      "cell_type": "code",
      "source": [
        "A = np.ones(3)*1\n",
        "B = np.ones(3)*2\n",
        "C = np.ones(3)*3\n",
        "\n",
        "np.add(A,B, out=B)\n",
        "np.divide(A,2, out=A)\n",
        "np.negative(A, out=A)\n",
        "np.multiply(A,B, out=A)"
      ],
      "metadata": {
        "id": "vRB09sDxcMqK",
        "outputId": "c951bb50-a278-4451-b689-3861a1f8fd69",
        "colab": {
          "base_uri": "https://localhost:8080/"
        }
      },
      "execution_count": 87,
      "outputs": [
        {
          "output_type": "execute_result",
          "data": {
            "text/plain": [
              "array([-1.5, -1.5, -1.5])"
            ]
          },
          "metadata": {},
          "execution_count": 87
        }
      ]
    },
    {
      "cell_type": "markdown",
      "source": [],
      "metadata": {
        "id": "vIfSkMbWcM0w"
      }
    },
    {
      "cell_type": "code",
      "source": [],
      "metadata": {
        "id": "F1-ylT3tcNEG"
      },
      "execution_count": null,
      "outputs": []
    },
    {
      "cell_type": "code",
      "source": [],
      "metadata": {
        "id": "ZbGfl8riS1_1"
      },
      "execution_count": 26,
      "outputs": []
    },
    {
      "cell_type": "code",
      "source": [],
      "metadata": {
        "id": "mT_JgV3TRQQA"
      },
      "execution_count": 26,
      "outputs": []
    },
    {
      "cell_type": "code",
      "source": [],
      "metadata": {
        "id": "6ojCEanuRQTh"
      },
      "execution_count": 26,
      "outputs": []
    },
    {
      "cell_type": "code",
      "source": [],
      "metadata": {
        "id": "lVueVr7fRQXi"
      },
      "execution_count": 26,
      "outputs": []
    },
    {
      "cell_type": "code",
      "source": [],
      "metadata": {
        "id": "AnLTVxNYRQdS"
      },
      "execution_count": 26,
      "outputs": []
    }
  ]
}