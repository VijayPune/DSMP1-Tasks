{
  "nbformat": 4,
  "nbformat_minor": 0,
  "metadata": {
    "colab": {
      "provenance": [],
      "authorship_tag": "ABX9TyPgC9Zn0rYHImh8a4vVXlDl",
      "include_colab_link": true
    },
    "kernelspec": {
      "name": "python3",
      "display_name": "Python 3"
    },
    "language_info": {
      "name": "python"
    }
  },
  "cells": [
    {
      "cell_type": "markdown",
      "metadata": {
        "id": "view-in-github",
        "colab_type": "text"
      },
      "source": [
        "<a href=\"https://colab.research.google.com/github/VijayPune/DSMP1-Tasks/blob/main/Numpy_100_Problems.ipynb\" target=\"_parent\"><img src=\"https://colab.research.google.com/assets/colab-badge.svg\" alt=\"Open In Colab\"/></a>"
      ]
    },
    {
      "cell_type": "markdown",
      "source": [
        "# 100 Numpy Problems"
      ],
      "metadata": {
        "id": "i55UciL3c806"
      }
    },
    {
      "cell_type": "markdown",
      "source": [
        "#### This is a collection of exercises that have been collected in the numpy mailing list, on stack overflow and in the numpy documentation."
      ],
      "metadata": {
        "id": "X7gektu7cseJ"
      }
    },
    {
      "cell_type": "code",
      "source": [
        "# 001 - Import the numpy package under the name np\n",
        "\n",
        "import numpy as np"
      ],
      "metadata": {
        "id": "N7faDzUadEOs"
      },
      "execution_count": null,
      "outputs": []
    },
    {
      "cell_type": "code",
      "source": [
        "# 002 - Print the numpy version and the configuration\n",
        "\n",
        "print(np.__version__)"
      ],
      "metadata": {
        "colab": {
          "base_uri": "https://localhost:8080/"
        },
        "id": "ZAraBJ2PdPwQ",
        "outputId": "11763640-5d93-47f6-c447-eb747adceb0c"
      },
      "execution_count": null,
      "outputs": [
        {
          "output_type": "stream",
          "name": "stdout",
          "text": [
            "1.23.5\n"
          ]
        }
      ]
    },
    {
      "cell_type": "code",
      "source": [
        "# 003 - Create a null vector of size 10\n",
        "\n",
        "a1 = np.zeros(10)\n",
        "print(a1)"
      ],
      "metadata": {
        "colab": {
          "base_uri": "https://localhost:8080/"
        },
        "id": "Pf_s8MB7doJn",
        "outputId": "8d0cad7d-7e35-4c13-dfca-203c2cb1cc6a"
      },
      "execution_count": null,
      "outputs": [
        {
          "output_type": "stream",
          "name": "stdout",
          "text": [
            "[0. 0. 0. 0. 0. 0. 0. 0. 0. 0.]\n"
          ]
        }
      ]
    },
    {
      "cell_type": "code",
      "source": [
        "# 004 - How to find the memory size of any array\n",
        "\n",
        "a1 = np.zeros(12, np.int64).reshape(2,2,3)  # Here we use integer 64\n",
        "print(a1)\n",
        "print(a1.ndim)          # ndim gives number of dimension of the array\n",
        "print(a1.size)          # size gives, total number of elements in the array\n",
        "print(a1.itemsize)      # itemsize gives length of each element in array in bytes\n",
        "print('No. of Bytes used by Array is', (a1.size)*(a1.itemsize), 'bytes')"
      ],
      "metadata": {
        "colab": {
          "base_uri": "https://localhost:8080/"
        },
        "id": "aGwwh6tBeFfb",
        "outputId": "1b2a8bef-1bc2-4a22-dba2-03864847d6ec"
      },
      "execution_count": null,
      "outputs": [
        {
          "output_type": "stream",
          "name": "stdout",
          "text": [
            "[[[0 0 0]\n",
            "  [0 0 0]]\n",
            "\n",
            " [[0 0 0]\n",
            "  [0 0 0]]]\n",
            "3\n",
            "12\n",
            "8\n",
            "No. of Bytes used by Array is 96 bytes\n"
          ]
        }
      ]
    },
    {
      "cell_type": "code",
      "source": [
        "# 004 - Create a null vector of size 10 but the fifth value which is 1\n",
        "\n",
        "a1 = np.zeros(10)\n",
        "a1[5] = 1\n",
        "print(a1)"
      ],
      "metadata": {
        "colab": {
          "base_uri": "https://localhost:8080/"
        },
        "id": "Z7-JtmWqeFxY",
        "outputId": "5f5997db-334b-48a1-8d29-d9c4798397bb"
      },
      "execution_count": null,
      "outputs": [
        {
          "output_type": "stream",
          "name": "stdout",
          "text": [
            "[0. 0. 0. 0. 0. 1. 0. 0. 0. 0.]\n"
          ]
        }
      ]
    },
    {
      "cell_type": "code",
      "source": [
        "# 007 - Create a vector with values ranging from 10 to 49\n",
        "\n",
        "a1 = np.arange(10,50)\n",
        "print(a1)"
      ],
      "metadata": {
        "colab": {
          "base_uri": "https://localhost:8080/"
        },
        "id": "xWB0twUjeF02",
        "outputId": "97061756-8fe2-43e6-8181-d8955f7d7140"
      },
      "execution_count": null,
      "outputs": [
        {
          "output_type": "stream",
          "name": "stdout",
          "text": [
            "[10 11 12 13 14 15 16 17 18 19 20 21 22 23 24 25 26 27 28 29 30 31 32 33\n",
            " 34 35 36 37 38 39 40 41 42 43 44 45 46 47 48 49]\n"
          ]
        }
      ]
    },
    {
      "cell_type": "code",
      "source": [
        "# 008 - Reverse a vector (first element becomes last)\n",
        "\n",
        "a1 = np.arange(10)\n",
        "print(a1)\n",
        "a2 = a1[::-1]\n",
        "print(a2)"
      ],
      "metadata": {
        "colab": {
          "base_uri": "https://localhost:8080/"
        },
        "id": "AOk3kczahFBt",
        "outputId": "d6a84b78-e07f-427a-ba6e-a33017a9a6ba"
      },
      "execution_count": null,
      "outputs": [
        {
          "output_type": "stream",
          "name": "stdout",
          "text": [
            "[0 1 2 3 4 5 6 7 8 9]\n",
            "[9 8 7 6 5 4 3 2 1 0]\n"
          ]
        }
      ]
    },
    {
      "cell_type": "code",
      "source": [
        "# 009 - Create a 3x3 matrix with values ranging from 0 to 8\n",
        "\n",
        "a1 = np.arange(9).reshape(3,3)\n",
        "print(a1)"
      ],
      "metadata": {
        "colab": {
          "base_uri": "https://localhost:8080/"
        },
        "id": "gZXpXOkqhFFA",
        "outputId": "26e82032-e1ce-457c-de0f-fafae56388aa"
      },
      "execution_count": null,
      "outputs": [
        {
          "output_type": "stream",
          "name": "stdout",
          "text": [
            "[[0 1 2]\n",
            " [3 4 5]\n",
            " [6 7 8]]\n"
          ]
        }
      ]
    },
    {
      "cell_type": "code",
      "source": [
        "# 010 - Find indices of non-zero elements from [1,2,0,0,4,0]\n",
        "import numpy as np\n",
        "\n",
        "a1 = np.array([1,2,0,0,4,0])    # We have non zero elements in index 0,1 and 4\n",
        "a2 = np.nonzero(a1)\n",
        "print(a2)"
      ],
      "metadata": {
        "colab": {
          "base_uri": "https://localhost:8080/"
        },
        "id": "wT3DxsqzhFIs",
        "outputId": "92d75911-013d-4d40-ef38-a1b534a380be"
      },
      "execution_count": 4,
      "outputs": [
        {
          "output_type": "stream",
          "name": "stdout",
          "text": [
            "(array([0, 1, 4]),)\n"
          ]
        }
      ]
    },
    {
      "cell_type": "code",
      "source": [
        "# 011 - Create a 3x3 identity matrix\n",
        "\n",
        "a1 = np.eye(3)\n",
        "print(a1)"
      ],
      "metadata": {
        "id": "qF94cbjDhFMN",
        "colab": {
          "base_uri": "https://localhost:8080/"
        },
        "outputId": "01c1db1d-e5c0-49d1-c60e-11eeefe1952b"
      },
      "execution_count": 5,
      "outputs": [
        {
          "output_type": "stream",
          "name": "stdout",
          "text": [
            "[[1. 0. 0.]\n",
            " [0. 1. 0.]\n",
            " [0. 0. 1.]]\n"
          ]
        }
      ]
    },
    {
      "cell_type": "code",
      "source": [
        "# 012 - Create a 3x3x3 array with random values\n",
        "\n",
        "a1 = np.random.random((3,3,3))\n",
        "print(a1)"
      ],
      "metadata": {
        "id": "CBHRstj-hFQd",
        "colab": {
          "base_uri": "https://localhost:8080/"
        },
        "outputId": "b7abbcc5-6ad7-4ead-df0c-5d9fea5d9789"
      },
      "execution_count": 11,
      "outputs": [
        {
          "output_type": "stream",
          "name": "stdout",
          "text": [
            "[[[0.59475275 0.8732491  0.44612193]\n",
            "  [0.45218912 0.83123468 0.21463647]\n",
            "  [0.50859518 0.25282459 0.85501484]]\n",
            "\n",
            " [[0.6873353  0.74064255 0.04394162]\n",
            "  [0.01962473 0.62680539 0.03353737]\n",
            "  [0.90063138 0.39398974 0.58650891]]\n",
            "\n",
            " [[0.25532416 0.83531776 0.73041297]\n",
            "  [0.42106225 0.32881697 0.67859986]\n",
            "  [0.88602371 0.30892979 0.49549656]]]\n"
          ]
        }
      ]
    },
    {
      "cell_type": "code",
      "source": [
        "# 013 - Create a 10x10 array with random values and find the minimum and maximum values\n",
        "\n",
        "a1 = np.random.random((10,10))*10\n",
        "print(a1)\n",
        "print('Value of the smallest element is', a1.min())\n",
        "print('Value of the largest element is', a1.max())"
      ],
      "metadata": {
        "id": "iJI2vjkkhFT9",
        "colab": {
          "base_uri": "https://localhost:8080/"
        },
        "outputId": "55210535-4751-42ca-cf58-9260686c26f3"
      },
      "execution_count": 15,
      "outputs": [
        {
          "output_type": "stream",
          "name": "stdout",
          "text": [
            "[[7.6508425  3.11035235 0.85379942 9.70230885 4.21103858 3.68779171\n",
            "  8.41643014 6.75938456 4.44272439 2.79587294]\n",
            " [3.55604871 7.14558782 0.88097834 1.7546001  2.86288689 3.49339402\n",
            "  8.71900124 6.58019177 8.39909375 8.5953845 ]\n",
            " [7.92384941 7.53451204 1.11268581 2.55865041 2.08473567 6.72691679\n",
            "  7.24663133 6.64248195 3.74343154 5.94241126]\n",
            " [6.29062782 2.19261458 7.33508452 8.89451635 6.15030643 5.04869894\n",
            "  4.17482782 2.17747226 0.60835033 1.95400833]\n",
            " [2.42902843 2.25088967 5.42302323 7.61547969 0.64861004 3.25954156\n",
            "  6.16456055 2.24303695 3.46833393 6.98626817]\n",
            " [6.58864195 4.61084568 3.46647127 4.70896695 8.01028225 7.73711321\n",
            "  0.94982849 8.6868528  3.86602608 1.07080262]\n",
            " [4.09307374 5.23914222 0.35947602 7.48074198 3.20258234 0.0656915\n",
            "  1.67748567 8.34990115 3.15904749 0.40821767]\n",
            " [7.34775585 1.75826688 3.37016158 3.09686318 6.98385434 7.77172387\n",
            "  6.09370533 3.46977715 3.15380967 2.93609231]\n",
            " [8.77396085 5.53496723 6.20538166 2.22997683 1.50127606 8.37785759\n",
            "  1.51574531 1.18470697 5.74259635 0.50325647]\n",
            " [8.01040483 6.06106976 2.22243754 7.57906321 7.12180181 1.7903856\n",
            "  8.05852593 0.56764117 1.58538194 1.05570057]]\n",
            "Value of the smallest element is 0.06569149572111299\n",
            "Value of the largest element is 9.702308849935083\n"
          ]
        }
      ]
    },
    {
      "cell_type": "code",
      "source": [
        "# 014 - Create a random vector of size 30 and find the mean value\n",
        "\n",
        "a1 = np.random.random(30)     # Create a vector of size 30 with values ranging from 1 to 100\n",
        "print(a1)\n",
        "print('The Mean of all the elements is', a1.mean())"
      ],
      "metadata": {
        "id": "g8naKLRbhFXw",
        "colab": {
          "base_uri": "https://localhost:8080/"
        },
        "outputId": "3a1a7337-20cf-4b65-ec5f-19878b03ef88"
      },
      "execution_count": 19,
      "outputs": [
        {
          "output_type": "stream",
          "name": "stdout",
          "text": [
            "[0.61981093 0.39691236 0.56970275 0.09967182 0.48252727 0.33099838\n",
            " 0.19120447 0.27016253 0.98671561 0.88671493 0.97428523 0.80923024\n",
            " 0.91770702 0.81346262 0.32878518 0.29781832 0.00578133 0.90158726\n",
            " 0.72656018 0.87137655 0.80235885 0.70658627 0.90082942 0.80719484\n",
            " 0.90914404 0.87408872 0.96698585 0.31684693 0.11152108 0.86770414]\n",
            "The Mean of all the elements is 0.6248091704959005\n"
          ]
        }
      ]
    },
    {
      "cell_type": "code",
      "source": [
        "# 015 -  Create a 2d array with 1 on the border and 0 inside\n",
        "\n",
        "a1 = np.ones((7,7))\n",
        "a1[1:-1,1:-1] = 0       # We use indexing. 1 is INCLUSIVE and -1 is EXCLUDED\n",
        "print(a1)"
      ],
      "metadata": {
        "id": "vuMRRgTAeF4W",
        "colab": {
          "base_uri": "https://localhost:8080/"
        },
        "outputId": "5862edcd-a91c-44c5-96cf-a8954f8eb4b0"
      },
      "execution_count": 25,
      "outputs": [
        {
          "output_type": "stream",
          "name": "stdout",
          "text": [
            "[[1. 1. 1. 1. 1. 1. 1.]\n",
            " [1. 0. 0. 0. 0. 0. 1.]\n",
            " [1. 0. 0. 0. 0. 0. 1.]\n",
            " [1. 0. 0. 0. 0. 0. 1.]\n",
            " [1. 0. 0. 0. 0. 0. 1.]\n",
            " [1. 0. 0. 0. 0. 0. 1.]\n",
            " [1. 1. 1. 1. 1. 1. 1.]]\n"
          ]
        }
      ]
    },
    {
      "cell_type": "code",
      "source": [
        "# 016 - How to add a border (filled with 0's) around an existing array?\n",
        "\n",
        "a1 = np.arange(1,10).reshape(3,3)\n",
        "print(a1)\n",
        "a1 = np.pad(a1, pad_width=1, constant_values=0)\n",
        "print(a1)"
      ],
      "metadata": {
        "id": "lHX2eRT7eF7-",
        "colab": {
          "base_uri": "https://localhost:8080/"
        },
        "outputId": "6328ddcc-21a2-4368-d1ba-1aaee71bee9c"
      },
      "execution_count": 37,
      "outputs": [
        {
          "output_type": "stream",
          "name": "stdout",
          "text": [
            "[[1 2 3]\n",
            " [4 5 6]\n",
            " [7 8 9]]\n",
            "[[0 0 0 0 0]\n",
            " [0 1 2 3 0]\n",
            " [0 4 5 6 0]\n",
            " [0 7 8 9 0]\n",
            " [0 0 0 0 0]]\n"
          ]
        }
      ]
    },
    {
      "cell_type": "code",
      "source": [
        "# 017 - What is the result of the following expression?\n",
        "import numpy as np\n",
        "\n",
        "print(0 * np.nan)\n",
        "print(np.nan == np.nan)\n",
        "print(np.inf > np.nan)\n",
        "print(np.nan - np.nan)\n",
        "print(np.nan in set([np.nan]))\n",
        "print(0.3 == 3 * 0.1)"
      ],
      "metadata": {
        "colab": {
          "base_uri": "https://localhost:8080/"
        },
        "id": "gL7tjm8yoWhR",
        "outputId": "7ba406d1-066a-40c1-862a-8aa16f08f9be"
      },
      "execution_count": 2,
      "outputs": [
        {
          "output_type": "stream",
          "name": "stdout",
          "text": [
            "nan\n",
            "False\n",
            "False\n",
            "nan\n",
            "True\n",
            "False\n"
          ]
        }
      ]
    },
    {
      "cell_type": "code",
      "source": [
        "x = np.arange(25).reshape(5,5)      # It is a 5x5 Square Matrix\n",
        "print(x, end='\\n\\n')                # end='\\n\\n' is used just to have additional blank line\n",
        "print(np.diag(x))                   # Used to Extract elements in Diagonal of Matrix x\n",
        "print(np.diag(x, k=1))              # Used to extract elements ONE layer ABOVE Diagonal line\n",
        "print(np.diag(x, k=2))              # Used to extract elements TWO layer ABOVE Diagonal line\n",
        "print(np.diag(x, k=-1))              # Used to extract elements ONE layer BELOW Diagonal line\n",
        "print(np.diag(x, k=-2))              # Used to extract elements TWO layer BELOW Diagonal line"
      ],
      "metadata": {
        "colab": {
          "base_uri": "https://localhost:8080/"
        },
        "id": "Sz8nGVA7O20f",
        "outputId": "58e17259-76c9-4c1b-b978-c0d112355f52"
      },
      "execution_count": 17,
      "outputs": [
        {
          "output_type": "stream",
          "name": "stdout",
          "text": [
            "[[ 0  1  2  3  4]\n",
            " [ 5  6  7  8  9]\n",
            " [10 11 12 13 14]\n",
            " [15 16 17 18 19]\n",
            " [20 21 22 23 24]]\n",
            "\n",
            "[ 0  6 12 18 24]\n",
            "[ 1  7 13 19]\n",
            "[ 2  8 14]\n",
            "[ 5 11 17 23]\n",
            "[10 16 22]\n"
          ]
        }
      ]
    },
    {
      "cell_type": "code",
      "source": [
        "# 018 - Create a 5x5 matrix with values 1,2,3,4 just below the diagonal\n",
        "\n",
        "z = np.diag(1+np.arange(4),k=-1)\n",
        "print(z)\n"
      ],
      "metadata": {
        "id": "mh8LNACteF_p",
        "colab": {
          "base_uri": "https://localhost:8080/"
        },
        "outputId": "c9401e8a-f17e-4be7-a660-5bd83aeff151"
      },
      "execution_count": 18,
      "outputs": [
        {
          "output_type": "stream",
          "name": "stdout",
          "text": [
            "[[0 0 0 0 0]\n",
            " [1 0 0 0 0]\n",
            " [0 2 0 0 0]\n",
            " [0 0 3 0 0]\n",
            " [0 0 0 4 0]]\n"
          ]
        }
      ]
    },
    {
      "cell_type": "code",
      "source": [
        "z = np.arange((5))\n",
        "print(z)\n",
        "\n",
        "print()\n",
        "z = np.diag(np.arange(5))\n",
        "print(z)\n",
        "print()\n",
        "\n",
        "z = np.diag(1+np.arange(4))\n",
        "print(z)\n",
        "print()\n",
        "\n",
        "z = np.diag(1+np.arange(4), k=-1) # Create a 5x5 matrix with values 1,2,3,4 just below the diagonal\n",
        "print(z)"
      ],
      "metadata": {
        "colab": {
          "base_uri": "https://localhost:8080/"
        },
        "id": "5aOryG_cRQMw",
        "outputId": "c470f8b3-0a3e-450f-e421-c1390c84e15f"
      },
      "execution_count": 30,
      "outputs": [
        {
          "output_type": "stream",
          "name": "stdout",
          "text": [
            "[0 1 2 3 4]\n",
            "\n",
            "[[0 0 0 0 0]\n",
            " [0 1 0 0 0]\n",
            " [0 0 2 0 0]\n",
            " [0 0 0 3 0]\n",
            " [0 0 0 0 4]]\n",
            "\n",
            "[[1 0 0 0]\n",
            " [0 2 0 0]\n",
            " [0 0 3 0]\n",
            " [0 0 0 4]]\n",
            "\n",
            "[[0 0 0 0 0]\n",
            " [1 0 0 0 0]\n",
            " [0 2 0 0 0]\n",
            " [0 0 3 0 0]\n",
            " [0 0 0 4 0]]\n"
          ]
        }
      ]
    },
    {
      "cell_type": "code",
      "source": [
        "# 019 - Create a 8x8 matrix and fill it with a checkerboard pattern\n",
        "\n",
        "a1 = np.zeros(64, np.int8).reshape(8,8)\n",
        "\n",
        "a1[1::2,::2 ] = 1\n",
        "a1[::2, 1::2] = 1\n",
        "print(a1)\n",
        "\n"
      ],
      "metadata": {
        "colab": {
          "base_uri": "https://localhost:8080/"
        },
        "id": "JoGnYG5_S1uW",
        "outputId": "d3f6f993-09ba-4179-82c4-0359b399e70b"
      },
      "execution_count": 54,
      "outputs": [
        {
          "output_type": "stream",
          "name": "stdout",
          "text": [
            "[[0 1 0 1 0 1 0 1]\n",
            " [1 0 1 0 1 0 1 0]\n",
            " [0 1 0 1 0 1 0 1]\n",
            " [1 0 1 0 1 0 1 0]\n",
            " [0 1 0 1 0 1 0 1]\n",
            " [1 0 1 0 1 0 1 0]\n",
            " [0 1 0 1 0 1 0 1]\n",
            " [1 0 1 0 1 0 1 0]]\n"
          ]
        }
      ]
    },
    {
      "cell_type": "code",
      "source": [
        "# 020 - Consider a (6,7,8) shape array, what is the index (x,y,z) of the 100th element?\n",
        "\n",
        "print(np.arange(10).reshape(1,10))\n",
        "print('Index value of 4th element is ', end='')\n",
        "print(np.unravel_index(4,(10)))     # For a 1D array with elements from 0 to 9\n",
        "                                    # Index value for element'4' will also be 4\n",
        "print()\n",
        "\n",
        "print(np.arange(9).reshape(3,3))\n",
        "print('Index value of 5th element is ', end='')\n",
        "print(np.unravel_index(5,(3,3)))     # For a 2D array with elements from 0 to 9\n",
        "                                    # Index value for element'5' will be(1,2)\n",
        "print()\n",
        "print(np.arange(336).reshape(6,7,8))\n",
        "print('Index value of 100th element is ', end='')\n",
        "print(np.unravel_index(100,(6,7,8)))\n"
      ],
      "metadata": {
        "colab": {
          "base_uri": "https://localhost:8080/"
        },
        "id": "Si29nkenS1xk",
        "outputId": "76fc19ea-8449-4429-d40e-bd55e0540f0a"
      },
      "execution_count": 65,
      "outputs": [
        {
          "output_type": "stream",
          "name": "stdout",
          "text": [
            "[[0 1 2 3 4 5 6 7 8 9]]\n",
            "Index value of 4th element is (4,)\n",
            "\n",
            "[[0 1 2]\n",
            " [3 4 5]\n",
            " [6 7 8]]\n",
            "Index value of 5th element is (1, 2)\n",
            "\n",
            "[[[  0   1   2   3   4   5   6   7]\n",
            "  [  8   9  10  11  12  13  14  15]\n",
            "  [ 16  17  18  19  20  21  22  23]\n",
            "  [ 24  25  26  27  28  29  30  31]\n",
            "  [ 32  33  34  35  36  37  38  39]\n",
            "  [ 40  41  42  43  44  45  46  47]\n",
            "  [ 48  49  50  51  52  53  54  55]]\n",
            "\n",
            " [[ 56  57  58  59  60  61  62  63]\n",
            "  [ 64  65  66  67  68  69  70  71]\n",
            "  [ 72  73  74  75  76  77  78  79]\n",
            "  [ 80  81  82  83  84  85  86  87]\n",
            "  [ 88  89  90  91  92  93  94  95]\n",
            "  [ 96  97  98  99 100 101 102 103]\n",
            "  [104 105 106 107 108 109 110 111]]\n",
            "\n",
            " [[112 113 114 115 116 117 118 119]\n",
            "  [120 121 122 123 124 125 126 127]\n",
            "  [128 129 130 131 132 133 134 135]\n",
            "  [136 137 138 139 140 141 142 143]\n",
            "  [144 145 146 147 148 149 150 151]\n",
            "  [152 153 154 155 156 157 158 159]\n",
            "  [160 161 162 163 164 165 166 167]]\n",
            "\n",
            " [[168 169 170 171 172 173 174 175]\n",
            "  [176 177 178 179 180 181 182 183]\n",
            "  [184 185 186 187 188 189 190 191]\n",
            "  [192 193 194 195 196 197 198 199]\n",
            "  [200 201 202 203 204 205 206 207]\n",
            "  [208 209 210 211 212 213 214 215]\n",
            "  [216 217 218 219 220 221 222 223]]\n",
            "\n",
            " [[224 225 226 227 228 229 230 231]\n",
            "  [232 233 234 235 236 237 238 239]\n",
            "  [240 241 242 243 244 245 246 247]\n",
            "  [248 249 250 251 252 253 254 255]\n",
            "  [256 257 258 259 260 261 262 263]\n",
            "  [264 265 266 267 268 269 270 271]\n",
            "  [272 273 274 275 276 277 278 279]]\n",
            "\n",
            " [[280 281 282 283 284 285 286 287]\n",
            "  [288 289 290 291 292 293 294 295]\n",
            "  [296 297 298 299 300 301 302 303]\n",
            "  [304 305 306 307 308 309 310 311]\n",
            "  [312 313 314 315 316 317 318 319]\n",
            "  [320 321 322 323 324 325 326 327]\n",
            "  [328 329 330 331 332 333 334 335]]]\n",
            "Index value of 100th element is (1, 5, 4)\n"
          ]
        }
      ]
    },
    {
      "cell_type": "code",
      "source": [
        "# 020 - Create a checkerboard 8x8 matrix using the tile function\n",
        "\n",
        "a1 = np.tile( np.array([[0,1],[1,0]]), (4,4))\n",
        "print(a1)"
      ],
      "metadata": {
        "colab": {
          "base_uri": "https://localhost:8080/"
        },
        "id": "pAQ_DkSjS11M",
        "outputId": "a862726a-24d7-4451-d7d7-fb25ae97ae21"
      },
      "execution_count": 69,
      "outputs": [
        {
          "output_type": "stream",
          "name": "stdout",
          "text": [
            "[[0 1 0 1 0 1 0 1]\n",
            " [1 0 1 0 1 0 1 0]\n",
            " [0 1 0 1 0 1 0 1]\n",
            " [1 0 1 0 1 0 1 0]\n",
            " [0 1 0 1 0 1 0 1]\n",
            " [1 0 1 0 1 0 1 0]\n",
            " [0 1 0 1 0 1 0 1]\n",
            " [1 0 1 0 1 0 1 0]]\n"
          ]
        }
      ]
    },
    {
      "cell_type": "code",
      "source": [],
      "metadata": {
        "id": "hOHGBUHzS14u"
      },
      "execution_count": null,
      "outputs": []
    },
    {
      "cell_type": "code",
      "source": [],
      "metadata": {
        "id": "ZbGfl8riS1_1"
      },
      "execution_count": null,
      "outputs": []
    },
    {
      "cell_type": "code",
      "source": [],
      "metadata": {
        "id": "mT_JgV3TRQQA"
      },
      "execution_count": null,
      "outputs": []
    },
    {
      "cell_type": "code",
      "source": [],
      "metadata": {
        "id": "6ojCEanuRQTh"
      },
      "execution_count": null,
      "outputs": []
    },
    {
      "cell_type": "code",
      "source": [],
      "metadata": {
        "id": "lVueVr7fRQXi"
      },
      "execution_count": null,
      "outputs": []
    },
    {
      "cell_type": "code",
      "source": [],
      "metadata": {
        "id": "AnLTVxNYRQdS"
      },
      "execution_count": null,
      "outputs": []
    }
  ]
}