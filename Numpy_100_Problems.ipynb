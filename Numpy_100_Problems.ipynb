{
  "nbformat": 4,
  "nbformat_minor": 0,
  "metadata": {
    "colab": {
      "provenance": [],
      "authorship_tag": "ABX9TyPCW+D8YrsFThIMjUCzX3w/",
      "include_colab_link": true
    },
    "kernelspec": {
      "name": "python3",
      "display_name": "Python 3"
    },
    "language_info": {
      "name": "python"
    }
  },
  "cells": [
    {
      "cell_type": "markdown",
      "metadata": {
        "id": "view-in-github",
        "colab_type": "text"
      },
      "source": [
        "<a href=\"https://colab.research.google.com/github/VijayPune/DSMP1-Tasks/blob/main/Numpy_100_Problems.ipynb\" target=\"_parent\"><img src=\"https://colab.research.google.com/assets/colab-badge.svg\" alt=\"Open In Colab\"/></a>"
      ]
    },
    {
      "cell_type": "markdown",
      "source": [
        "# 100 Numpy Problems"
      ],
      "metadata": {
        "id": "i55UciL3c806"
      }
    },
    {
      "cell_type": "markdown",
      "source": [
        "#### This is a collection of exercises that have been collected in the numpy mailing list, on stack overflow and in the numpy documentation."
      ],
      "metadata": {
        "id": "X7gektu7cseJ"
      }
    },
    {
      "cell_type": "code",
      "source": [
        "# 001 - Import the numpy package under the name np\n",
        "\n",
        "import numpy as np"
      ],
      "metadata": {
        "id": "N7faDzUadEOs"
      },
      "execution_count": null,
      "outputs": []
    },
    {
      "cell_type": "code",
      "source": [
        "# 002 - Print the numpy version and the configuration\n",
        "\n",
        "print(np.__version__)"
      ],
      "metadata": {
        "colab": {
          "base_uri": "https://localhost:8080/"
        },
        "id": "ZAraBJ2PdPwQ",
        "outputId": "11763640-5d93-47f6-c447-eb747adceb0c"
      },
      "execution_count": null,
      "outputs": [
        {
          "output_type": "stream",
          "name": "stdout",
          "text": [
            "1.23.5\n"
          ]
        }
      ]
    },
    {
      "cell_type": "code",
      "source": [
        "# 003 - Create a null vector of size 10\n",
        "\n",
        "a1 = np.zeros(10)\n",
        "print(a1)"
      ],
      "metadata": {
        "colab": {
          "base_uri": "https://localhost:8080/"
        },
        "id": "Pf_s8MB7doJn",
        "outputId": "8d0cad7d-7e35-4c13-dfca-203c2cb1cc6a"
      },
      "execution_count": null,
      "outputs": [
        {
          "output_type": "stream",
          "name": "stdout",
          "text": [
            "[0. 0. 0. 0. 0. 0. 0. 0. 0. 0.]\n"
          ]
        }
      ]
    },
    {
      "cell_type": "code",
      "source": [
        "# 004 - How to find the memory size of any array\n",
        "\n",
        "a1 = np.zeros(12, np.int64).reshape(2,2,3)  # Here we use integer 64\n",
        "print(a1)\n",
        "print(a1.ndim)          # ndim gives number of dimension of the array\n",
        "print(a1.size)          # size gives, total number of elements in the array\n",
        "print(a1.itemsize)      # itemsize gives length of each element in array in bytes\n",
        "print('No. of Bytes used by Array is', (a1.size)*(a1.itemsize), 'bytes')"
      ],
      "metadata": {
        "colab": {
          "base_uri": "https://localhost:8080/"
        },
        "id": "aGwwh6tBeFfb",
        "outputId": "1b2a8bef-1bc2-4a22-dba2-03864847d6ec"
      },
      "execution_count": null,
      "outputs": [
        {
          "output_type": "stream",
          "name": "stdout",
          "text": [
            "[[[0 0 0]\n",
            "  [0 0 0]]\n",
            "\n",
            " [[0 0 0]\n",
            "  [0 0 0]]]\n",
            "3\n",
            "12\n",
            "8\n",
            "No. of Bytes used by Array is 96 bytes\n"
          ]
        }
      ]
    },
    {
      "cell_type": "code",
      "source": [
        "# 004 - Create a null vector of size 10 but the fifth value which is 1\n",
        "\n",
        "a1 = np.zeros(10)\n",
        "a1[5] = 1\n",
        "print(a1)"
      ],
      "metadata": {
        "colab": {
          "base_uri": "https://localhost:8080/"
        },
        "id": "Z7-JtmWqeFxY",
        "outputId": "5f5997db-334b-48a1-8d29-d9c4798397bb"
      },
      "execution_count": null,
      "outputs": [
        {
          "output_type": "stream",
          "name": "stdout",
          "text": [
            "[0. 0. 0. 0. 0. 1. 0. 0. 0. 0.]\n"
          ]
        }
      ]
    },
    {
      "cell_type": "code",
      "source": [
        "# 007 - Create a vector with values ranging from 10 to 49\n",
        "\n",
        "a1 = np.arange(10,50)\n",
        "print(a1)"
      ],
      "metadata": {
        "colab": {
          "base_uri": "https://localhost:8080/"
        },
        "id": "xWB0twUjeF02",
        "outputId": "97061756-8fe2-43e6-8181-d8955f7d7140"
      },
      "execution_count": null,
      "outputs": [
        {
          "output_type": "stream",
          "name": "stdout",
          "text": [
            "[10 11 12 13 14 15 16 17 18 19 20 21 22 23 24 25 26 27 28 29 30 31 32 33\n",
            " 34 35 36 37 38 39 40 41 42 43 44 45 46 47 48 49]\n"
          ]
        }
      ]
    },
    {
      "cell_type": "code",
      "source": [
        "# 008 - Reverse a vector (first element becomes last)\n",
        "\n",
        "a1 = np.arange(10)\n",
        "print(a1)\n",
        "a2 = a1[::-1]\n",
        "print(a2)"
      ],
      "metadata": {
        "colab": {
          "base_uri": "https://localhost:8080/"
        },
        "id": "AOk3kczahFBt",
        "outputId": "d6a84b78-e07f-427a-ba6e-a33017a9a6ba"
      },
      "execution_count": null,
      "outputs": [
        {
          "output_type": "stream",
          "name": "stdout",
          "text": [
            "[0 1 2 3 4 5 6 7 8 9]\n",
            "[9 8 7 6 5 4 3 2 1 0]\n"
          ]
        }
      ]
    },
    {
      "cell_type": "code",
      "source": [
        "# 009 - Create a 3x3 matrix with values ranging from 0 to 8\n",
        "\n",
        "a1 = np.arange(9).reshape(3,3)\n",
        "print(a1)"
      ],
      "metadata": {
        "colab": {
          "base_uri": "https://localhost:8080/"
        },
        "id": "gZXpXOkqhFFA",
        "outputId": "26e82032-e1ce-457c-de0f-fafae56388aa"
      },
      "execution_count": null,
      "outputs": [
        {
          "output_type": "stream",
          "name": "stdout",
          "text": [
            "[[0 1 2]\n",
            " [3 4 5]\n",
            " [6 7 8]]\n"
          ]
        }
      ]
    },
    {
      "cell_type": "code",
      "source": [
        "# 010 - Find indices of non-zero elements from [1,2,0,0,4,0]\n",
        "import numpy as np\n",
        "\n",
        "a1 = np.array([1,2,0,0,4,0])    # We have non zero elements in index 0,1 and 4\n",
        "a2 = np.nonzero(a1)\n",
        "print(a2)"
      ],
      "metadata": {
        "colab": {
          "base_uri": "https://localhost:8080/"
        },
        "id": "wT3DxsqzhFIs",
        "outputId": "92d75911-013d-4d40-ef38-a1b534a380be"
      },
      "execution_count": 4,
      "outputs": [
        {
          "output_type": "stream",
          "name": "stdout",
          "text": [
            "(array([0, 1, 4]),)\n"
          ]
        }
      ]
    },
    {
      "cell_type": "code",
      "source": [
        "# 011 - Create a 3x3 identity matrix\n",
        "\n",
        "a1 = np.eye(3)\n",
        "print(a1)"
      ],
      "metadata": {
        "id": "qF94cbjDhFMN",
        "colab": {
          "base_uri": "https://localhost:8080/"
        },
        "outputId": "01c1db1d-e5c0-49d1-c60e-11eeefe1952b"
      },
      "execution_count": 5,
      "outputs": [
        {
          "output_type": "stream",
          "name": "stdout",
          "text": [
            "[[1. 0. 0.]\n",
            " [0. 1. 0.]\n",
            " [0. 0. 1.]]\n"
          ]
        }
      ]
    },
    {
      "cell_type": "code",
      "source": [
        "# 012 - Create a 3x3x3 array with random values\n",
        "\n",
        "a1 = np.random.random((3,3,3))\n",
        "print(a1)"
      ],
      "metadata": {
        "id": "CBHRstj-hFQd",
        "colab": {
          "base_uri": "https://localhost:8080/"
        },
        "outputId": "b7abbcc5-6ad7-4ead-df0c-5d9fea5d9789"
      },
      "execution_count": 11,
      "outputs": [
        {
          "output_type": "stream",
          "name": "stdout",
          "text": [
            "[[[0.59475275 0.8732491  0.44612193]\n",
            "  [0.45218912 0.83123468 0.21463647]\n",
            "  [0.50859518 0.25282459 0.85501484]]\n",
            "\n",
            " [[0.6873353  0.74064255 0.04394162]\n",
            "  [0.01962473 0.62680539 0.03353737]\n",
            "  [0.90063138 0.39398974 0.58650891]]\n",
            "\n",
            " [[0.25532416 0.83531776 0.73041297]\n",
            "  [0.42106225 0.32881697 0.67859986]\n",
            "  [0.88602371 0.30892979 0.49549656]]]\n"
          ]
        }
      ]
    },
    {
      "cell_type": "code",
      "source": [
        "# 013 - Create a 10x10 array with random values and find the minimum and maximum values\n",
        "\n",
        "a1 = np.random.random((10,10))*10\n",
        "print(a1)\n",
        "print('Value of the smallest element is', a1.min())\n",
        "print('Value of the largest element is', a1.max())"
      ],
      "metadata": {
        "id": "iJI2vjkkhFT9",
        "colab": {
          "base_uri": "https://localhost:8080/"
        },
        "outputId": "55210535-4751-42ca-cf58-9260686c26f3"
      },
      "execution_count": 15,
      "outputs": [
        {
          "output_type": "stream",
          "name": "stdout",
          "text": [
            "[[7.6508425  3.11035235 0.85379942 9.70230885 4.21103858 3.68779171\n",
            "  8.41643014 6.75938456 4.44272439 2.79587294]\n",
            " [3.55604871 7.14558782 0.88097834 1.7546001  2.86288689 3.49339402\n",
            "  8.71900124 6.58019177 8.39909375 8.5953845 ]\n",
            " [7.92384941 7.53451204 1.11268581 2.55865041 2.08473567 6.72691679\n",
            "  7.24663133 6.64248195 3.74343154 5.94241126]\n",
            " [6.29062782 2.19261458 7.33508452 8.89451635 6.15030643 5.04869894\n",
            "  4.17482782 2.17747226 0.60835033 1.95400833]\n",
            " [2.42902843 2.25088967 5.42302323 7.61547969 0.64861004 3.25954156\n",
            "  6.16456055 2.24303695 3.46833393 6.98626817]\n",
            " [6.58864195 4.61084568 3.46647127 4.70896695 8.01028225 7.73711321\n",
            "  0.94982849 8.6868528  3.86602608 1.07080262]\n",
            " [4.09307374 5.23914222 0.35947602 7.48074198 3.20258234 0.0656915\n",
            "  1.67748567 8.34990115 3.15904749 0.40821767]\n",
            " [7.34775585 1.75826688 3.37016158 3.09686318 6.98385434 7.77172387\n",
            "  6.09370533 3.46977715 3.15380967 2.93609231]\n",
            " [8.77396085 5.53496723 6.20538166 2.22997683 1.50127606 8.37785759\n",
            "  1.51574531 1.18470697 5.74259635 0.50325647]\n",
            " [8.01040483 6.06106976 2.22243754 7.57906321 7.12180181 1.7903856\n",
            "  8.05852593 0.56764117 1.58538194 1.05570057]]\n",
            "Value of the smallest element is 0.06569149572111299\n",
            "Value of the largest element is 9.702308849935083\n"
          ]
        }
      ]
    },
    {
      "cell_type": "code",
      "source": [
        "# 014 - Create a random vector of size 30 and find the mean value\n",
        "\n",
        "a1 = np.random.random(30)     # Create a vector of size 30 with values ranging from 1 to 100\n",
        "print(a1)\n",
        "print('The Mean of all the elements is', a1.mean())"
      ],
      "metadata": {
        "id": "g8naKLRbhFXw",
        "colab": {
          "base_uri": "https://localhost:8080/"
        },
        "outputId": "3a1a7337-20cf-4b65-ec5f-19878b03ef88"
      },
      "execution_count": 19,
      "outputs": [
        {
          "output_type": "stream",
          "name": "stdout",
          "text": [
            "[0.61981093 0.39691236 0.56970275 0.09967182 0.48252727 0.33099838\n",
            " 0.19120447 0.27016253 0.98671561 0.88671493 0.97428523 0.80923024\n",
            " 0.91770702 0.81346262 0.32878518 0.29781832 0.00578133 0.90158726\n",
            " 0.72656018 0.87137655 0.80235885 0.70658627 0.90082942 0.80719484\n",
            " 0.90914404 0.87408872 0.96698585 0.31684693 0.11152108 0.86770414]\n",
            "The Mean of all the elements is 0.6248091704959005\n"
          ]
        }
      ]
    },
    {
      "cell_type": "code",
      "source": [
        "# 015 -  Create a 2d array with 1 on the border and 0 inside\n",
        "\n",
        "a1 = np.ones((7,7))\n",
        "a1[1:-1,1:-1] = 0       # We use indexing. 1 is INCLUSIVE and -1 is EXCLUDED\n",
        "print(a1)"
      ],
      "metadata": {
        "id": "vuMRRgTAeF4W",
        "colab": {
          "base_uri": "https://localhost:8080/"
        },
        "outputId": "5862edcd-a91c-44c5-96cf-a8954f8eb4b0"
      },
      "execution_count": 25,
      "outputs": [
        {
          "output_type": "stream",
          "name": "stdout",
          "text": [
            "[[1. 1. 1. 1. 1. 1. 1.]\n",
            " [1. 0. 0. 0. 0. 0. 1.]\n",
            " [1. 0. 0. 0. 0. 0. 1.]\n",
            " [1. 0. 0. 0. 0. 0. 1.]\n",
            " [1. 0. 0. 0. 0. 0. 1.]\n",
            " [1. 0. 0. 0. 0. 0. 1.]\n",
            " [1. 1. 1. 1. 1. 1. 1.]]\n"
          ]
        }
      ]
    },
    {
      "cell_type": "code",
      "source": [
        "# 016 - How to add a border (filled with 0's) around an existing array?\n",
        "\n",
        "a1 = np.arange(1,10).reshape(3,3)\n",
        "print(a1)\n",
        "a1 = np.pad(a1, pad_width=1, constant_values=0)\n",
        "print(a1)"
      ],
      "metadata": {
        "id": "lHX2eRT7eF7-",
        "colab": {
          "base_uri": "https://localhost:8080/"
        },
        "outputId": "6328ddcc-21a2-4368-d1ba-1aaee71bee9c"
      },
      "execution_count": 37,
      "outputs": [
        {
          "output_type": "stream",
          "name": "stdout",
          "text": [
            "[[1 2 3]\n",
            " [4 5 6]\n",
            " [7 8 9]]\n",
            "[[0 0 0 0 0]\n",
            " [0 1 2 3 0]\n",
            " [0 4 5 6 0]\n",
            " [0 7 8 9 0]\n",
            " [0 0 0 0 0]]\n"
          ]
        }
      ]
    },
    {
      "cell_type": "code",
      "source": [],
      "metadata": {
        "id": "gL7tjm8yoWhR"
      },
      "execution_count": null,
      "outputs": []
    },
    {
      "cell_type": "code",
      "source": [],
      "metadata": {
        "id": "mh8LNACteF_p"
      },
      "execution_count": null,
      "outputs": []
    },
    {
      "cell_type": "code",
      "source": [],
      "metadata": {
        "id": "TiMnW2AbeGEV"
      },
      "execution_count": null,
      "outputs": []
    }
  ]
}