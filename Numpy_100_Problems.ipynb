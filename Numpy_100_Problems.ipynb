{
  "nbformat": 4,
  "nbformat_minor": 0,
  "metadata": {
    "colab": {
      "provenance": [],
      "toc_visible": true,
      "authorship_tag": "ABX9TyOMcktgCFCJaUN2bIYgVeMd",
      "include_colab_link": true
    },
    "kernelspec": {
      "name": "python3",
      "display_name": "Python 3"
    },
    "language_info": {
      "name": "python"
    }
  },
  "cells": [
    {
      "cell_type": "markdown",
      "metadata": {
        "id": "view-in-github",
        "colab_type": "text"
      },
      "source": [
        "<a href=\"https://colab.research.google.com/github/VijayPune/DSMP1-Tasks/blob/main/Numpy_100_Problems.ipynb\" target=\"_parent\"><img src=\"https://colab.research.google.com/assets/colab-badge.svg\" alt=\"Open In Colab\"/></a>"
      ]
    },
    {
      "cell_type": "markdown",
      "source": [
        "# 100 Numpy Problems"
      ],
      "metadata": {
        "id": "i55UciL3c806"
      }
    },
    {
      "cell_type": "markdown",
      "source": [
        "##### This is a collection of exercises that have been collected in the numpy mailing list, on stack overflow and in the numpy documentation."
      ],
      "metadata": {
        "id": "X7gektu7cseJ"
      }
    },
    {
      "cell_type": "markdown",
      "source": [
        "001 - Import Numpy package under the name np"
      ],
      "metadata": {
        "id": "2NKPAx6Uq8WM"
      }
    },
    {
      "cell_type": "code",
      "source": [
        "import numpy as np"
      ],
      "metadata": {
        "id": "N7faDzUadEOs"
      },
      "execution_count": 71,
      "outputs": []
    },
    {
      "cell_type": "markdown",
      "source": [
        "002 - Print the Numpy version"
      ],
      "metadata": {
        "id": "ZUnJOq1YrFle"
      }
    },
    {
      "cell_type": "code",
      "source": [
        "print(np.__version__)"
      ],
      "metadata": {
        "colab": {
          "base_uri": "https://localhost:8080/"
        },
        "id": "ZAraBJ2PdPwQ",
        "outputId": "3210313c-7520-417f-a0bd-1a4ee95b114f"
      },
      "execution_count": 72,
      "outputs": [
        {
          "output_type": "stream",
          "name": "stdout",
          "text": [
            "1.23.5\n"
          ]
        }
      ]
    },
    {
      "cell_type": "markdown",
      "source": [
        "003 - Create a Null Vector of size 10"
      ],
      "metadata": {
        "id": "owYCbwQ9rN7d"
      }
    },
    {
      "cell_type": "code",
      "source": [
        "a1 = np.zeros(10)\n",
        "print(a1)"
      ],
      "metadata": {
        "colab": {
          "base_uri": "https://localhost:8080/"
        },
        "id": "Pf_s8MB7doJn",
        "outputId": "10552b30-d452-40ce-dd3a-78a517d5ae6e"
      },
      "execution_count": 73,
      "outputs": [
        {
          "output_type": "stream",
          "name": "stdout",
          "text": [
            "[0. 0. 0. 0. 0. 0. 0. 0. 0. 0.]\n"
          ]
        }
      ]
    },
    {
      "cell_type": "markdown",
      "source": [
        "004 - Find the Memory Size, No of Dimension, Total Elements, Element size in bytes for an array"
      ],
      "metadata": {
        "id": "vcxjpB1zrW9T"
      }
    },
    {
      "cell_type": "code",
      "source": [
        "a1 = np.zeros(12, np.int64).reshape(2,2,3)  # Here we use integer 64\n",
        "print(a1)\n",
        "print('No of dimensions of the array is ', a1.ndim)\n",
        "print('Total no of elements in array is ', a1.size)\n",
        "print('Size of each element in bytes is ', a1.itemsize, ' bytes')\n",
        "print('No. of Bytes used by Array is', (a1.size)*(a1.itemsize), 'bytes')"
      ],
      "metadata": {
        "colab": {
          "base_uri": "https://localhost:8080/"
        },
        "id": "aGwwh6tBeFfb",
        "outputId": "92bf217e-63d7-4bac-d944-639ce23bafcd"
      },
      "execution_count": 74,
      "outputs": [
        {
          "output_type": "stream",
          "name": "stdout",
          "text": [
            "[[[0 0 0]\n",
            "  [0 0 0]]\n",
            "\n",
            " [[0 0 0]\n",
            "  [0 0 0]]]\n",
            "No of dimensions of the array is  3\n",
            "Total no of elements in array is  12\n",
            "Size of each element in bytes is  8  bytes\n",
            "No. of Bytes used by Array is 96 bytes\n"
          ]
        }
      ]
    },
    {
      "cell_type": "markdown",
      "source": [
        "004 - Create a null vector of size 10 but the fifth element must be 1"
      ],
      "metadata": {
        "id": "3YKZkMEQsXJr"
      }
    },
    {
      "cell_type": "code",
      "source": [
        "a1 = np.zeros(10)\n",
        "a1[5] = 1\n",
        "print(a1)"
      ],
      "metadata": {
        "colab": {
          "base_uri": "https://localhost:8080/"
        },
        "id": "Z7-JtmWqeFxY",
        "outputId": "21db6a02-0da4-4782-85dd-54da6c480a21"
      },
      "execution_count": 75,
      "outputs": [
        {
          "output_type": "stream",
          "name": "stdout",
          "text": [
            "[0. 0. 0. 0. 0. 1. 0. 0. 0. 0.]\n"
          ]
        }
      ]
    },
    {
      "cell_type": "markdown",
      "source": [
        "005 - Create a vector whose element values range from 10 to 49"
      ],
      "metadata": {
        "id": "NTq3K6gjsirp"
      }
    },
    {
      "cell_type": "code",
      "source": [
        "a1 = np.arange(10,50)\n",
        "print(a1)"
      ],
      "metadata": {
        "colab": {
          "base_uri": "https://localhost:8080/"
        },
        "id": "xWB0twUjeF02",
        "outputId": "0050c749-758e-4951-d20f-35ded688be49"
      },
      "execution_count": 76,
      "outputs": [
        {
          "output_type": "stream",
          "name": "stdout",
          "text": [
            "[10 11 12 13 14 15 16 17 18 19 20 21 22 23 24 25 26 27 28 29 30 31 32 33\n",
            " 34 35 36 37 38 39 40 41 42 43 44 45 46 47 48 49]\n"
          ]
        }
      ]
    },
    {
      "cell_type": "markdown",
      "source": [
        "006 - Reverse a vector i.e. first element becomes last and vice versa"
      ],
      "metadata": {
        "id": "SAXcwajesvyS"
      }
    },
    {
      "cell_type": "code",
      "source": [
        "a1 = np.arange(10)\n",
        "print(a1)\n",
        "a2 = a1[::-1]\n",
        "print(a2)"
      ],
      "metadata": {
        "colab": {
          "base_uri": "https://localhost:8080/"
        },
        "id": "AOk3kczahFBt",
        "outputId": "9f924732-3a65-4c06-aeb0-e42cff17bc6c"
      },
      "execution_count": 77,
      "outputs": [
        {
          "output_type": "stream",
          "name": "stdout",
          "text": [
            "[0 1 2 3 4 5 6 7 8 9]\n",
            "[9 8 7 6 5 4 3 2 1 0]\n"
          ]
        }
      ]
    },
    {
      "cell_type": "markdown",
      "source": [
        "007 - Create a 3x3 matrix with values ranging from 0 to 8"
      ],
      "metadata": {
        "id": "RjbGPAPYs61v"
      }
    },
    {
      "cell_type": "code",
      "source": [
        "a1 = np.arange(9).reshape(3,3)\n",
        "print(a1)"
      ],
      "metadata": {
        "colab": {
          "base_uri": "https://localhost:8080/"
        },
        "id": "gZXpXOkqhFFA",
        "outputId": "d7e17f6a-c663-4e92-c33b-027f410643ad"
      },
      "execution_count": 78,
      "outputs": [
        {
          "output_type": "stream",
          "name": "stdout",
          "text": [
            "[[0 1 2]\n",
            " [3 4 5]\n",
            " [6 7 8]]\n"
          ]
        }
      ]
    },
    {
      "cell_type": "markdown",
      "source": [
        "008 - Find indices of non zero elements from [1,2,0,0,4,0]"
      ],
      "metadata": {
        "id": "XToDi5MftEDS"
      }
    },
    {
      "cell_type": "code",
      "source": [
        "import numpy as np\n",
        "\n",
        "a1 = np.array([1,2,0,0,4,0])    # We have non zero elements in index 0,1 and 4\n",
        "a2 = np.nonzero(a1)\n",
        "print(a2)"
      ],
      "metadata": {
        "colab": {
          "base_uri": "https://localhost:8080/"
        },
        "id": "wT3DxsqzhFIs",
        "outputId": "27b8477a-ffc8-47c6-f1c7-e019ea9a35ee"
      },
      "execution_count": 79,
      "outputs": [
        {
          "output_type": "stream",
          "name": "stdout",
          "text": [
            "(array([0, 1, 4]),)\n"
          ]
        }
      ]
    },
    {
      "cell_type": "markdown",
      "source": [
        "009 - Create a 3x3 identity matrix"
      ],
      "metadata": {
        "id": "b-aVjdahtWfc"
      }
    },
    {
      "cell_type": "code",
      "source": [
        "a1 = np.eye(3)\n",
        "print(a1)"
      ],
      "metadata": {
        "id": "qF94cbjDhFMN",
        "colab": {
          "base_uri": "https://localhost:8080/"
        },
        "outputId": "4645e575-8f4b-4f5a-d057-9419a1423ac6"
      },
      "execution_count": 80,
      "outputs": [
        {
          "output_type": "stream",
          "name": "stdout",
          "text": [
            "[[1. 0. 0.]\n",
            " [0. 1. 0.]\n",
            " [0. 0. 1.]]\n"
          ]
        }
      ]
    },
    {
      "cell_type": "markdown",
      "source": [
        "010 - Create a 3x3x3 array with random values"
      ],
      "metadata": {
        "id": "bo7d-xhatVLN"
      }
    },
    {
      "cell_type": "code",
      "source": [
        "a1 = np.random.random((3,3,3))\n",
        "print(a1)"
      ],
      "metadata": {
        "id": "CBHRstj-hFQd",
        "colab": {
          "base_uri": "https://localhost:8080/"
        },
        "outputId": "63c7336a-8723-4d1e-d2e6-d1eb6862e076"
      },
      "execution_count": 81,
      "outputs": [
        {
          "output_type": "stream",
          "name": "stdout",
          "text": [
            "[[[0.6296819  0.56307163 0.04847118]\n",
            "  [0.93118141 0.20559255 0.74779567]\n",
            "  [0.41952002 0.96580061 0.18369919]]\n",
            "\n",
            " [[0.73288752 0.44595369 0.75991907]\n",
            "  [0.8407923  0.90337974 0.8860133 ]\n",
            "  [0.02920231 0.70164247 0.93826697]]\n",
            "\n",
            " [[0.14134776 0.3237414  0.79344351]\n",
            "  [0.96759059 0.78059996 0.95365645]\n",
            "  [0.5862195  0.90058082 0.79452501]]]\n"
          ]
        }
      ]
    },
    {
      "cell_type": "markdown",
      "source": [
        "011 - Create a 10x10 array with random values and find the minimum and maximum values"
      ],
      "metadata": {
        "id": "On_O6N5RuGFb"
      }
    },
    {
      "cell_type": "code",
      "source": [
        "a1 = np.random.random((10,10))*10\n",
        "print(a1)\n",
        "print('Value of the smallest element is', a1.min())\n",
        "print('Value of the largest element is', a1.max())"
      ],
      "metadata": {
        "id": "iJI2vjkkhFT9",
        "colab": {
          "base_uri": "https://localhost:8080/"
        },
        "outputId": "1217fd11-5d12-488f-d67a-aae8e0232df1"
      },
      "execution_count": 82,
      "outputs": [
        {
          "output_type": "stream",
          "name": "stdout",
          "text": [
            "[[1.48012538 7.1788058  8.31285102 1.96484796 1.52927257 3.82616159\n",
            "  6.1765283  9.39348267 9.95836052 4.89676165]\n",
            " [9.15112999 7.86578466 9.97290261 4.68020554 1.89987764 8.38015331\n",
            "  6.14170208 6.66939514 6.78343913 1.34584101]\n",
            " [9.79607659 9.61319957 0.68652109 5.7472648  0.36532924 1.31065634\n",
            "  9.60900683 8.20771709 8.86557717 3.93184374]\n",
            " [1.83520535 8.97829764 6.11488653 9.54603676 3.05206153 3.77528292\n",
            "  8.18125278 6.48567198 1.00764124 3.93060487]\n",
            " [2.32583435 9.04683766 5.65802136 3.42381015 3.45184225 0.02483265\n",
            "  0.88934879 1.83516106 1.7057627  9.75778939]\n",
            " [3.97065796 5.96674107 5.8602019  1.0325446  9.66651631 7.77049283\n",
            "  0.65481187 2.63039307 9.86627129 4.6797607 ]\n",
            " [8.1388358  7.98408395 9.24503035 3.03059736 0.97092798 1.90485285\n",
            "  5.74543067 6.58606774 9.93139232 2.7465134 ]\n",
            " [5.93641795 1.52062217 8.64991715 8.32018436 2.23007067 9.17610096\n",
            "  6.287203   2.3037836  9.66887949 3.62561891]\n",
            " [6.7532929  8.63334456 0.62952729 4.15709464 1.27154179 2.19451353\n",
            "  3.63821096 7.64924887 4.25791936 3.93880563]\n",
            " [4.75376621 4.08781596 8.21995521 6.47329176 1.17977443 5.66103207\n",
            "  4.47187032 2.73183118 5.74951121 4.1055443 ]]\n",
            "Value of the smallest element is 0.024832647270787156\n",
            "Value of the largest element is 9.972902612087584\n"
          ]
        }
      ]
    },
    {
      "cell_type": "markdown",
      "source": [
        "012 - Create a random vector of size 30 and find the mean value\n"
      ],
      "metadata": {
        "id": "i-F05W9SuUG7"
      }
    },
    {
      "cell_type": "code",
      "source": [
        "a1 = np.random.random(30)\n",
        "print(a1)\n",
        "print('The Mean of all the elements is', a1.mean())"
      ],
      "metadata": {
        "id": "g8naKLRbhFXw",
        "colab": {
          "base_uri": "https://localhost:8080/"
        },
        "outputId": "c38a0633-9213-466e-fb3d-995573e2905f"
      },
      "execution_count": 83,
      "outputs": [
        {
          "output_type": "stream",
          "name": "stdout",
          "text": [
            "[0.88548248 0.26020222 0.6929435  0.72448532 0.05609623 0.44593249\n",
            " 0.03648467 0.39623596 0.90902506 0.82720917 0.16823629 0.4275945\n",
            " 0.93217442 0.80879842 0.60614686 0.52568054 0.29102175 0.57104628\n",
            " 0.00366507 0.43240818 0.40533574 0.9386247  0.00844704 0.27072297\n",
            " 0.55129434 0.00949871 0.09779103 0.58830919 0.98992869 0.83651254]\n",
            "The Mean of all the elements is 0.48991114599625324\n"
          ]
        }
      ]
    },
    {
      "cell_type": "markdown",
      "source": [
        "013 - Create a 2D array with 1 on the border and 0 inside"
      ],
      "metadata": {
        "id": "CEa3XuJyynsh"
      }
    },
    {
      "cell_type": "code",
      "source": [
        "a1 = np.ones((7,7))\n",
        "a1[1:-1,1:-1] = 0       # We use indexing. 1 is INCLUSIVE and -1 is EXCLUDED\n",
        "print(a1)"
      ],
      "metadata": {
        "id": "vuMRRgTAeF4W",
        "colab": {
          "base_uri": "https://localhost:8080/"
        },
        "outputId": "9ba1ee54-3550-4496-d361-b0ce1aa8a62e"
      },
      "execution_count": 84,
      "outputs": [
        {
          "output_type": "stream",
          "name": "stdout",
          "text": [
            "[[1. 1. 1. 1. 1. 1. 1.]\n",
            " [1. 0. 0. 0. 0. 0. 1.]\n",
            " [1. 0. 0. 0. 0. 0. 1.]\n",
            " [1. 0. 0. 0. 0. 0. 1.]\n",
            " [1. 0. 0. 0. 0. 0. 1.]\n",
            " [1. 0. 0. 0. 0. 0. 1.]\n",
            " [1. 1. 1. 1. 1. 1. 1.]]\n"
          ]
        }
      ]
    },
    {
      "cell_type": "markdown",
      "source": [
        "014 - Add a border with all 0's around a existing array"
      ],
      "metadata": {
        "id": "aTIy1GG1y5X4"
      }
    },
    {
      "cell_type": "code",
      "source": [
        "a1 = np.arange(1,10).reshape(3,3)\n",
        "print(a1)\n",
        "a1 = np.pad(a1, pad_width=1, constant_values=0)\n",
        "print(a1)"
      ],
      "metadata": {
        "id": "lHX2eRT7eF7-",
        "colab": {
          "base_uri": "https://localhost:8080/"
        },
        "outputId": "044a5319-a20b-4db8-841a-ea07f50b5aea"
      },
      "execution_count": 85,
      "outputs": [
        {
          "output_type": "stream",
          "name": "stdout",
          "text": [
            "[[1 2 3]\n",
            " [4 5 6]\n",
            " [7 8 9]]\n",
            "[[0 0 0 0 0]\n",
            " [0 1 2 3 0]\n",
            " [0 4 5 6 0]\n",
            " [0 7 8 9 0]\n",
            " [0 0 0 0 0]]\n"
          ]
        }
      ]
    },
    {
      "cell_type": "markdown",
      "source": [
        "015 - What is the result of following expressions?"
      ],
      "metadata": {
        "id": "HRyn0TjczNFd"
      }
    },
    {
      "cell_type": "code",
      "source": [
        "a1 = np.nan\n",
        "print(a1*0)\n",
        "print(np.nan == np.nan)\n",
        "a2 = np.inf\n",
        "print(a2)\n",
        "print(np.inf > np.nan)\n",
        "print(np.nan - np.nan)\n",
        "print(np.inf - np.inf)\n",
        "print(0.1 * 3)\n",
        "print(0.3 == 0.1*3)\n",
        "print(np.nan in set([np.nan]))"
      ],
      "metadata": {
        "colab": {
          "base_uri": "https://localhost:8080/"
        },
        "id": "dvtbtyQbzX-t",
        "outputId": "9aceb3e1-0505-4f88-bc9b-9c698a340d68"
      },
      "execution_count": 86,
      "outputs": [
        {
          "output_type": "stream",
          "name": "stdout",
          "text": [
            "nan\n",
            "False\n",
            "inf\n",
            "False\n",
            "nan\n",
            "nan\n",
            "0.30000000000000004\n",
            "False\n",
            "True\n"
          ]
        }
      ]
    },
    {
      "cell_type": "markdown",
      "source": [
        "016 - Show how np.diag works"
      ],
      "metadata": {
        "id": "9EBypvq80s1Y"
      }
    },
    {
      "cell_type": "code",
      "source": [
        "x = np.arange(25).reshape(5,5)      # It is a 5x5 Square Matrix\n",
        "print(x, end='\\n\\n')                # end='\\n\\n' is used just to have additional blank line\n",
        "print(np.diag(x))                   # Used to Extract elements in Diagonal of Matrix x\n",
        "print(np.diag(x, k=1))              # Used to extract elements ONE layer ABOVE Diagonal line\n",
        "print(np.diag(x, k=2))              # Used to extract elements TWO layer ABOVE Diagonal line\n",
        "print(np.diag(x, k=-1))             # Used to extract elements ONE layer BELOW Diagonal line\n",
        "print(np.diag(x, k=-2))             # Used to extract elements TWO layer BELOW Diagonal line"
      ],
      "metadata": {
        "colab": {
          "base_uri": "https://localhost:8080/"
        },
        "id": "Sz8nGVA7O20f",
        "outputId": "1a295bfd-86b6-4211-ce10-520b8f8fbcdb"
      },
      "execution_count": 87,
      "outputs": [
        {
          "output_type": "stream",
          "name": "stdout",
          "text": [
            "[[ 0  1  2  3  4]\n",
            " [ 5  6  7  8  9]\n",
            " [10 11 12 13 14]\n",
            " [15 16 17 18 19]\n",
            " [20 21 22 23 24]]\n",
            "\n",
            "[ 0  6 12 18 24]\n",
            "[ 1  7 13 19]\n",
            "[ 2  8 14]\n",
            "[ 5 11 17 23]\n",
            "[10 16 22]\n"
          ]
        }
      ]
    },
    {
      "cell_type": "markdown",
      "source": [
        "017 - Create a 5x5 matrix with values 1,2,3,4 just below the diagonal"
      ],
      "metadata": {
        "id": "vxP_2q811BpQ"
      }
    },
    {
      "cell_type": "code",
      "source": [
        "z = np.diag(1+np.arange(4),k=-1)\n",
        "print(z)\n"
      ],
      "metadata": {
        "id": "mh8LNACteF_p",
        "colab": {
          "base_uri": "https://localhost:8080/"
        },
        "outputId": "f6ad5a5a-8590-4e27-b376-11bf8ed6fb3a"
      },
      "execution_count": 88,
      "outputs": [
        {
          "output_type": "stream",
          "name": "stdout",
          "text": [
            "[[0 0 0 0 0]\n",
            " [1 0 0 0 0]\n",
            " [0 2 0 0 0]\n",
            " [0 0 3 0 0]\n",
            " [0 0 0 4 0]]\n"
          ]
        }
      ]
    },
    {
      "cell_type": "markdown",
      "source": [
        "018 - Some more examples of np.diag() use cases"
      ],
      "metadata": {
        "id": "zaKJ_kK51Qbf"
      }
    },
    {
      "cell_type": "code",
      "source": [
        "z = np.arange((5))\n",
        "print(z)\n",
        "\n",
        "print()\n",
        "z = np.diag(np.arange(5))\n",
        "print(z)\n",
        "print()\n",
        "\n",
        "z = np.diag(1+np.arange(4))\n",
        "print(z)\n",
        "print()\n",
        "\n",
        "z = np.diag(1+np.arange(4), k=-1) # Create a 5x5 matrix with values 1,2,3,4 just below the diagonal\n",
        "print(z)"
      ],
      "metadata": {
        "colab": {
          "base_uri": "https://localhost:8080/"
        },
        "id": "5aOryG_cRQMw",
        "outputId": "dd6b7051-f5d4-411d-82ea-a01202d969d8"
      },
      "execution_count": 89,
      "outputs": [
        {
          "output_type": "stream",
          "name": "stdout",
          "text": [
            "[0 1 2 3 4]\n",
            "\n",
            "[[0 0 0 0 0]\n",
            " [0 1 0 0 0]\n",
            " [0 0 2 0 0]\n",
            " [0 0 0 3 0]\n",
            " [0 0 0 0 4]]\n",
            "\n",
            "[[1 0 0 0]\n",
            " [0 2 0 0]\n",
            " [0 0 3 0]\n",
            " [0 0 0 4]]\n",
            "\n",
            "[[0 0 0 0 0]\n",
            " [1 0 0 0 0]\n",
            " [0 2 0 0 0]\n",
            " [0 0 3 0 0]\n",
            " [0 0 0 4 0]]\n"
          ]
        }
      ]
    },
    {
      "cell_type": "markdown",
      "source": [
        "019 - Create a 8x8 matrix and fill it with a checkerboard pattern"
      ],
      "metadata": {
        "id": "APRiaRHk1Zan"
      }
    },
    {
      "cell_type": "code",
      "source": [
        "a1 = np.zeros(64, np.int8).reshape(8,8)\n",
        "\n",
        "a1[1::2, ::2 ] = 1    # Fill 1 in all alternate rows from 1st to last & alternate columns from 0th to last\n",
        "a1[ ::2,1::2 ] = 1    # Fill 1 in all alternate rows from 0th to last & alternate columns from 1st to last\n",
        "print(a1)"
      ],
      "metadata": {
        "colab": {
          "base_uri": "https://localhost:8080/"
        },
        "id": "JoGnYG5_S1uW",
        "outputId": "61c432fd-6d70-4597-b901-e1483494baf9"
      },
      "execution_count": 90,
      "outputs": [
        {
          "output_type": "stream",
          "name": "stdout",
          "text": [
            "[[0 1 0 1 0 1 0 1]\n",
            " [1 0 1 0 1 0 1 0]\n",
            " [0 1 0 1 0 1 0 1]\n",
            " [1 0 1 0 1 0 1 0]\n",
            " [0 1 0 1 0 1 0 1]\n",
            " [1 0 1 0 1 0 1 0]\n",
            " [0 1 0 1 0 1 0 1]\n",
            " [1 0 1 0 1 0 1 0]]\n"
          ]
        }
      ]
    },
    {
      "cell_type": "markdown",
      "source": [
        "020 - Consider a (6,7,8) shape array, what is the index (x,y,z) of the 100th element?"
      ],
      "metadata": {
        "id": "bcmZCQAM2QEs"
      }
    },
    {
      "cell_type": "code",
      "source": [
        "print(np.arange(10).reshape(1,10))\n",
        "print('Index value of 4th element is ', end='')\n",
        "print(np.unravel_index(4,(10)))     # For a 1D array with elements from 0 to 9\n",
        "                                    # Index value for element'4' will also be 4\n",
        "print()\n",
        "\n",
        "print(np.arange(9).reshape(3,3))\n",
        "print('Index value of 5th element is ', end='')\n",
        "print(np.unravel_index(5,(3,3)))     # For a 2D array with elements from 0 to 9\n",
        "                                    # Index value for element'5' will be(1,2)\n",
        "print()\n",
        "print(np.arange(336).reshape(6,7,8))\n",
        "print('Index value of 100th element is ', end='')\n",
        "print(np.unravel_index(100,(6,7,8)))\n"
      ],
      "metadata": {
        "colab": {
          "base_uri": "https://localhost:8080/"
        },
        "id": "Si29nkenS1xk",
        "outputId": "13f9c568-bd38-4a50-a80c-99ac04a0c5bb"
      },
      "execution_count": 91,
      "outputs": [
        {
          "output_type": "stream",
          "name": "stdout",
          "text": [
            "[[0 1 2 3 4 5 6 7 8 9]]\n",
            "Index value of 4th element is (4,)\n",
            "\n",
            "[[0 1 2]\n",
            " [3 4 5]\n",
            " [6 7 8]]\n",
            "Index value of 5th element is (1, 2)\n",
            "\n",
            "[[[  0   1   2   3   4   5   6   7]\n",
            "  [  8   9  10  11  12  13  14  15]\n",
            "  [ 16  17  18  19  20  21  22  23]\n",
            "  [ 24  25  26  27  28  29  30  31]\n",
            "  [ 32  33  34  35  36  37  38  39]\n",
            "  [ 40  41  42  43  44  45  46  47]\n",
            "  [ 48  49  50  51  52  53  54  55]]\n",
            "\n",
            " [[ 56  57  58  59  60  61  62  63]\n",
            "  [ 64  65  66  67  68  69  70  71]\n",
            "  [ 72  73  74  75  76  77  78  79]\n",
            "  [ 80  81  82  83  84  85  86  87]\n",
            "  [ 88  89  90  91  92  93  94  95]\n",
            "  [ 96  97  98  99 100 101 102 103]\n",
            "  [104 105 106 107 108 109 110 111]]\n",
            "\n",
            " [[112 113 114 115 116 117 118 119]\n",
            "  [120 121 122 123 124 125 126 127]\n",
            "  [128 129 130 131 132 133 134 135]\n",
            "  [136 137 138 139 140 141 142 143]\n",
            "  [144 145 146 147 148 149 150 151]\n",
            "  [152 153 154 155 156 157 158 159]\n",
            "  [160 161 162 163 164 165 166 167]]\n",
            "\n",
            " [[168 169 170 171 172 173 174 175]\n",
            "  [176 177 178 179 180 181 182 183]\n",
            "  [184 185 186 187 188 189 190 191]\n",
            "  [192 193 194 195 196 197 198 199]\n",
            "  [200 201 202 203 204 205 206 207]\n",
            "  [208 209 210 211 212 213 214 215]\n",
            "  [216 217 218 219 220 221 222 223]]\n",
            "\n",
            " [[224 225 226 227 228 229 230 231]\n",
            "  [232 233 234 235 236 237 238 239]\n",
            "  [240 241 242 243 244 245 246 247]\n",
            "  [248 249 250 251 252 253 254 255]\n",
            "  [256 257 258 259 260 261 262 263]\n",
            "  [264 265 266 267 268 269 270 271]\n",
            "  [272 273 274 275 276 277 278 279]]\n",
            "\n",
            " [[280 281 282 283 284 285 286 287]\n",
            "  [288 289 290 291 292 293 294 295]\n",
            "  [296 297 298 299 300 301 302 303]\n",
            "  [304 305 306 307 308 309 310 311]\n",
            "  [312 313 314 315 316 317 318 319]\n",
            "  [320 321 322 323 324 325 326 327]\n",
            "  [328 329 330 331 332 333 334 335]]]\n",
            "Index value of 100th element is (1, 5, 4)\n"
          ]
        }
      ]
    },
    {
      "cell_type": "markdown",
      "source": [
        "020 - Alternate Method for above problem No 018"
      ],
      "metadata": {
        "id": "730dSR1K2a8k"
      }
    },
    {
      "cell_type": "code",
      "source": [
        "a1 = np.tile( np.array([[0,1],[1,0]]), (4,4))\n",
        "print(a1)"
      ],
      "metadata": {
        "colab": {
          "base_uri": "https://localhost:8080/"
        },
        "id": "pAQ_DkSjS11M",
        "outputId": "ea081aa7-9784-466c-d271-b18f28d7fe4d"
      },
      "execution_count": 92,
      "outputs": [
        {
          "output_type": "stream",
          "name": "stdout",
          "text": [
            "[[0 1 0 1 0 1 0 1]\n",
            " [1 0 1 0 1 0 1 0]\n",
            " [0 1 0 1 0 1 0 1]\n",
            " [1 0 1 0 1 0 1 0]\n",
            " [0 1 0 1 0 1 0 1]\n",
            " [1 0 1 0 1 0 1 0]\n",
            " [0 1 0 1 0 1 0 1]\n",
            " [1 0 1 0 1 0 1 0]]\n"
          ]
        }
      ]
    },
    {
      "cell_type": "markdown",
      "source": [
        "021 - Use of random() function, two use cases"
      ],
      "metadata": {
        "id": "lLJko2ta3OKt"
      }
    },
    {
      "cell_type": "code",
      "source": [
        "a1 = np.random.random(25).reshape(5,5)\n",
        "print(a1)\n",
        "a2 = np.random.random((5,5))\n",
        "print(a2)"
      ],
      "metadata": {
        "id": "1cE4rrhj3RXe",
        "outputId": "e4c7ea62-5d44-4a70-c3bb-3be893db09b2",
        "colab": {
          "base_uri": "https://localhost:8080/"
        }
      },
      "execution_count": 95,
      "outputs": [
        {
          "output_type": "stream",
          "name": "stdout",
          "text": [
            "[[0.54453571 0.78445519 0.40522477 0.40646313 0.31850563]\n",
            " [0.78640327 0.68521997 0.79159047 0.13892111 0.98907926]\n",
            " [0.90684444 0.86771849 0.58283894 0.0431445  0.97048313]\n",
            " [0.05770519 0.88749086 0.94949587 0.46889691 0.48701962]\n",
            " [0.07734351 0.40322242 0.51844308 0.43049142 0.66869142]]\n",
            "[[0.27052394 0.19666307 0.83859032 0.47848726 0.77552426]\n",
            " [0.0700946  0.31618174 0.44023736 0.78727772 0.56319011]\n",
            " [0.242159   0.70514216 0.15550238 0.34427701 0.88209299]\n",
            " [0.93884761 0.08519592 0.20673827 0.11954237 0.49464207]\n",
            " [0.74481455 0.30497339 0.41809754 0.34477797 0.30029634]]\n"
          ]
        }
      ]
    },
    {
      "cell_type": "markdown",
      "source": [
        "022 - Normalize a 5x5 random matrix"
      ],
      "metadata": {
        "id": "jrjzYwa137nN"
      }
    },
    {
      "cell_type": "markdown",
      "source": [
        "The data can be normalized by subtracting the mean (µ) of each feature and a division by the standard deviation (σ). This way, each feature has a mean of 0 and a standard deviation of 1. This results in faster convergence.\n",
        "\n",
        "Calculate the mean and standard deviation of your dataset\n",
        "\n",
        "https://towardsdatascience.com/how-to-calculate-the-mean-and-standard-deviation-normalizing-datasets-in-pytorch-704bd7d05f4c#:~:text=The%20data%20can%20be%20normalized,channel%20is%20normalized%20this%20way."
      ],
      "metadata": {
        "id": "9aCchyP84_eo"
      }
    },
    {
      "cell_type": "code",
      "source": [
        "a1 = np.random.random((5,5))\n",
        "print(a1)\n",
        "print()\n",
        "a1 = (a1 - np.mean (a1)) / (np.std (a1))  # Formula to Normaliza two parameters\n",
        "print(a1)"
      ],
      "metadata": {
        "id": "7HyaLLqP4CBl",
        "outputId": "2b13911c-35b1-4f7a-ba37-ea1463010bbe",
        "colab": {
          "base_uri": "https://localhost:8080/"
        }
      },
      "execution_count": 99,
      "outputs": [
        {
          "output_type": "stream",
          "name": "stdout",
          "text": [
            "[[0.96499837 0.18538277 0.04052371 0.53348718 0.22038032]\n",
            " [0.82095998 0.14529101 0.0358224  0.96478869 0.75102871]\n",
            " [0.90420668 0.21043096 0.25841124 0.05120828 0.73232383]\n",
            " [0.63145291 0.95277672 0.05663866 0.7813056  0.55920921]\n",
            " [0.30615197 0.62472459 0.97559844 0.02466845 0.65894626]]\n",
            "\n",
            "[[ 1.37303475 -0.90755415 -1.33130652  0.11074649 -0.80517674]\n",
            " [ 0.95168306 -1.02483349 -1.34505914  1.37242137  0.74711495]\n",
            " [ 1.19520242 -0.83428134 -0.69392589 -1.30005124  0.69239806]\n",
            " [ 0.39732303  1.33728308 -1.28416589  0.83568314  0.18599044]\n",
            " [-0.55427119  0.37764085  1.40404284 -1.37768749  0.47774859]]\n"
          ]
        }
      ]
    },
    {
      "cell_type": "markdown",
      "source": [
        "023 -"
      ],
      "metadata": {
        "id": "jI81h8fh6ALn"
      }
    },
    {
      "cell_type": "code",
      "source": [],
      "metadata": {
        "id": "ZbGfl8riS1_1"
      },
      "execution_count": 92,
      "outputs": []
    },
    {
      "cell_type": "code",
      "source": [],
      "metadata": {
        "id": "mT_JgV3TRQQA"
      },
      "execution_count": 92,
      "outputs": []
    },
    {
      "cell_type": "code",
      "source": [],
      "metadata": {
        "id": "6ojCEanuRQTh"
      },
      "execution_count": 92,
      "outputs": []
    },
    {
      "cell_type": "code",
      "source": [],
      "metadata": {
        "id": "lVueVr7fRQXi"
      },
      "execution_count": 92,
      "outputs": []
    },
    {
      "cell_type": "code",
      "source": [],
      "metadata": {
        "id": "AnLTVxNYRQdS"
      },
      "execution_count": 92,
      "outputs": []
    }
  ]
}